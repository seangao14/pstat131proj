{
 "cells": [
  {
   "cell_type": "code",
   "execution_count": 1,
   "metadata": {},
   "outputs": [],
   "source": [
    "import pandas as pd\n",
    "import numpy as np\n",
    "import matplotlib.pyplot as plt\n",
    "import nltk\n",
    "import pickle\n",
    "import os\n",
    "\n",
    "from sklearn.feature_extraction.text import CountVectorizer\n",
    "from tqdm import tqdm"
   ]
  },
  {
   "cell_type": "code",
   "execution_count": 2,
   "metadata": {},
   "outputs": [],
   "source": [
    "PCT_DATA = .01\n",
    "N_VOCAB = 100"
   ]
  },
  {
   "cell_type": "code",
   "execution_count": 3,
   "metadata": {},
   "outputs": [],
   "source": [
    "def rm_stop(words):\n",
    "    new_words = []\n",
    "    stop_words = nltk.corpus.stopwords.words('english')\n",
    "\n",
    "    for w in words:\n",
    "        if w not in stop_words:\n",
    "            new_words.append(w)\n",
    "    return new_words\n",
    "\n",
    "def build_data(pct_data=PCT_DATA):\n",
    "    raw_df = pd.read_csv('data/finaldataset.csv')\n",
    "    raw_df = raw_df.iloc[:round(raw_df.shape[0] * pct_data)]\n",
    "\n",
    "    df = raw_df[['num_comments', 'title']]\n",
    "    del raw_df\n",
    "\n",
    "    df.loc[:,'title'] = df['title'].str.lower()\n",
    "    tokenizer = nltk.RegexpTokenizer(r'\\b[(a-z)]+\\b')\n",
    "\n",
    "    df.loc[:,'tokenized'] = df['title'].apply(tokenizer.tokenize)\n",
    "\n",
    "    df['tokenized'] = df['tokenized'].apply(rm_stop)\n",
    "    df['text'] = df['tokenized'].apply(lambda x: ' '.join([word for word in x]))\n",
    "\n",
    "    return df\n",
    "\n",
    "def fit_n_vocab(df, n_vocab=N_VOCAB):\n",
    "    vectorizer = CountVectorizer(max_features=n_vocab)\n",
    "    vecfit = vectorizer.fit_transform(df['text'])\n",
    "    X = vecfit.toarray()\n",
    "\n",
    "    vocab = vectorizer.get_feature_names()\n",
    "    Y = df['num_comments'].to_numpy()\n",
    "\n",
    "    return X, Y, vocab, vectorizer \n",
    "\n",
    "def pct_no_words(X):\n",
    "    return sum(np.sum(X, axis=1) > 0)/X.shape[0]\n",
    "\n",
    "def pred_from_str(q, m, vec):\n",
    "    tokenizer = nltk.RegexpTokenizer(r'\\b[(a-z)]+\\b')\n",
    "\n",
    "    q = tokenizer.tokenize(q)\n",
    "    q = rm_stop(q)\n",
    "\n",
    "    j = lambda x: ' '.join([word for word in x])\n",
    "    q = j(q)\n",
    "    pred_X = vec.transform(pd.Series(q)).toarray()\n",
    "\n",
    "    pred = m.predict(pred_X)\n",
    "\n",
    "    return pred"
   ]
  },
  {
   "cell_type": "code",
   "execution_count": 4,
   "metadata": {},
   "outputs": [
    {
     "data": {
      "image/png": "[encoded data removed]",
      "text/plain": [
       "<Figure size 432x288 with 1 Axes>"
      ]
     },
     "metadata": {
      "needs_background": "light"
     },
     "output_type": "display_data"
    }
   ],
   "source": [
    "# set run = True if first time running, False otherwise as it takes a while to run\n",
    "run = False\n",
    "\n",
    "if run:\n",
    "    pct_vals = []\n",
    "    df = build_data()\n",
    "\n",
    "    for i in tqdm(np.arange(100, 5001, 50)):\n",
    "        X = fit_n_vocab(df=df, n_vocab=i)[0]\n",
    "        pct = pct_no_words(X)\n",
    "        pct_vals.append([i, pct])\n",
    "    pct_df = pd.DataFrame(pct_vals, columns=['n_vocab', 'pct_words'])\n",
    "    pct_df.to_csv('pct_df.csv')\n",
    "else:\n",
    "    pct_df = pd.read_csv('pct_df.csv')\n",
    "\n",
    "plt.plot(pct_df['n_vocab'], pct_df['pct_words'])\n",
    "plt.xlabel('Number of words in the bag of words')\n",
    "plt.ylabel('Percent of obs. with 0 words from the bag of words')\n",
    "\n",
    "plt.show()"
   ]
  },
  {
   "cell_type": "code",
   "execution_count": 50,
   "metadata": {},
   "outputs": [],
   "source": [
    "df = build_data()\n",
    "X, Y, vocab, vectorizer = fit_n_vocab(df=df, n_vocab=N_VOCAB)\n",
    "\n",
    "\n",
    "# Y transformation\n",
    "Y = np.log(Y, dtype=float)\n",
    "\n",
    "del df"
   ]
  },
  {
   "cell_type": "code",
   "execution_count": 49,
   "metadata": {},
   "outputs": [
    {
     "data": {
      "text/plain": [
       "(array([3.279e+03, 4.125e+03, 2.126e+03, 3.370e+02, 6.200e+01, 2.100e+01,\n",
       "        9.000e+00, 8.000e+00, 4.000e+00, 7.000e+00]),\n",
       " array([1.09861229, 1.98653168, 2.87445107, 3.76237047, 4.65028986,\n",
       "        5.53820925, 6.42612865, 7.31404804, 8.20196743, 9.08988682,\n",
       "        9.97780622]),\n",
       " <BarContainer object of 10 artists>)"
      ]
     },
     "execution_count": 49,
     "metadata": {},
     "output_type": "execute_result"
    },
    {
     "data": {
      "image/png": "[encoded data removed]",
      "text/plain": [
       "<Figure size 432x288 with 1 Axes>"
      ]
     },
     "metadata": {
      "needs_background": "light"
     },
     "output_type": "display_data"
    }
   ],
   "source": [
    "plt.hist(Y)"
   ]
  },
  {
   "cell_type": "code",
   "execution_count": 6,
   "metadata": {},
   "outputs": [],
   "source": [
    "import statsmodels.api as sm\n",
    "\n",
    "ols = sm.OLS(Y, X)\n",
    "ols_fit = ols.fit()\n",
    "\n",
    "# https://stackoverflow.com/questions/51734180/converting-statsmodels-summary-object-to-pandas-dataframe\n",
    "vocab_coeff_df = pd.DataFrame({'word': vocab, 'coeff': ols_fit.params, 'pval': ols_fit.pvalues})"
   ]
  },
  {
   "cell_type": "code",
   "execution_count": 7,
   "metadata": {},
   "outputs": [
    {
     "data": {
      "text/html": [
       "<div>\n",
       "<style scoped>\n",
       "    .dataframe tbody tr th:only-of-type {\n",
       "        vertical-align: middle;\n",
       "    }\n",
       "\n",
       "    .dataframe tbody tr th {\n",
       "        vertical-align: top;\n",
       "    }\n",
       "\n",
       "    .dataframe thead th {\n",
       "        text-align: right;\n",
       "    }\n",
       "</style>\n",
       "<table border=\"1\" class=\"dataframe\">\n",
       "  <thead>\n",
       "    <tr style=\"text-align: right;\">\n",
       "      <th></th>\n",
       "      <th>word</th>\n",
       "      <th>coeff</th>\n",
       "      <th>pval</th>\n",
       "    </tr>\n",
       "  </thead>\n",
       "  <tbody>\n",
       "    <tr>\n",
       "      <th>54</th>\n",
       "      <td>opinion</td>\n",
       "      <td>1.835214</td>\n",
       "      <td>4.451592e-22</td>\n",
       "    </tr>\n",
       "    <tr>\n",
       "      <th>19</th>\n",
       "      <td>favourite</td>\n",
       "      <td>1.719135</td>\n",
       "      <td>5.712537e-21</td>\n",
       "    </tr>\n",
       "    <tr>\n",
       "      <th>81</th>\n",
       "      <td>thoughts</td>\n",
       "      <td>1.693542</td>\n",
       "      <td>5.618813e-21</td>\n",
       "    </tr>\n",
       "    <tr>\n",
       "      <th>5</th>\n",
       "      <td>biggest</td>\n",
       "      <td>1.687383</td>\n",
       "      <td>4.545969e-24</td>\n",
       "    </tr>\n",
       "    <tr>\n",
       "      <th>18</th>\n",
       "      <td>favorite</td>\n",
       "      <td>1.574314</td>\n",
       "      <td>5.476186e-59</td>\n",
       "    </tr>\n",
       "    <tr>\n",
       "      <th>...</th>\n",
       "      <td>...</td>\n",
       "      <td>...</td>\n",
       "      <td>...</td>\n",
       "    </tr>\n",
       "    <tr>\n",
       "      <th>75</th>\n",
       "      <td>take</td>\n",
       "      <td>0.247871</td>\n",
       "      <td>1.940359e-01</td>\n",
       "    </tr>\n",
       "    <tr>\n",
       "      <th>51</th>\n",
       "      <td>new</td>\n",
       "      <td>0.216357</td>\n",
       "      <td>2.445209e-01</td>\n",
       "    </tr>\n",
       "    <tr>\n",
       "      <th>24</th>\n",
       "      <td>friend</td>\n",
       "      <td>0.193925</td>\n",
       "      <td>1.816036e-01</td>\n",
       "    </tr>\n",
       "    <tr>\n",
       "      <th>10</th>\n",
       "      <td>could</td>\n",
       "      <td>0.179389</td>\n",
       "      <td>7.600573e-02</td>\n",
       "    </tr>\n",
       "    <tr>\n",
       "      <th>1</th>\n",
       "      <td>back</td>\n",
       "      <td>0.057469</td>\n",
       "      <td>6.884641e-01</td>\n",
       "    </tr>\n",
       "  </tbody>\n",
       "</table>\n",
       "<p>100 rows × 3 columns</p>\n",
       "</div>"
      ],
      "text/plain": [
       "         word     coeff          pval\n",
       "54    opinion  1.835214  4.451592e-22\n",
       "19  favourite  1.719135  5.712537e-21\n",
       "81   thoughts  1.693542  5.618813e-21\n",
       "5     biggest  1.687383  4.545969e-24\n",
       "18   favorite  1.574314  5.476186e-59\n",
       "..        ...       ...           ...\n",
       "75       take  0.247871  1.940359e-01\n",
       "51        new  0.216357  2.445209e-01\n",
       "24     friend  0.193925  1.816036e-01\n",
       "10      could  0.179389  7.600573e-02\n",
       "1        back  0.057469  6.884641e-01\n",
       "\n",
       "[100 rows x 3 columns]"
      ]
     },
     "execution_count": 7,
     "metadata": {},
     "output_type": "execute_result"
    }
   ],
   "source": [
    "vocab_coeff_df.sort_values('coeff', ascending=False)"
   ]
  },
  {
   "cell_type": "code",
   "execution_count": 13,
   "metadata": {},
   "outputs": [
    {
     "data": {
      "text/plain": [
       "XGBRegressor(base_score=0.5, booster='gbtree', colsample_bylevel=1,\n",
       "             colsample_bynode=1, colsample_bytree=1, enable_categorical=False,\n",
       "             gamma=0, gpu_id=-1, importance_type=None,\n",
       "             interaction_constraints='', learning_rate=0.300000012,\n",
       "             max_delta_step=0, max_depth=6, min_child_weight=1, missing=nan,\n",
       "             monotone_constraints='()', n_estimators=100, n_jobs=4,\n",
       "             num_parallel_tree=1, predictor='auto', random_state=0, reg_alpha=0,\n",
       "             reg_lambda=1, scale_pos_weight=1, subsample=1, tree_method='exact',\n",
       "             validate_parameters=1, verbosity=None)"
      ]
     },
     "execution_count": 13,
     "metadata": {},
     "output_type": "execute_result"
    }
   ],
   "source": [
    "from xgboost import XGBRegressor\n",
    "\n",
    "xgbr = XGBRegressor()\n",
    "xgbr.fit(X, Y)"
   ]
  },
  {
   "cell_type": "code",
   "execution_count": 14,
   "metadata": {},
   "outputs": [
    {
     "data": {
      "text/plain": [
       "array([2.5224602, 2.409966 , 2.3532548, ..., 2.5376554, 2.0632293,\n",
       "       2.4864795], dtype=float32)"
      ]
     },
     "execution_count": 14,
     "metadata": {},
     "output_type": "execute_result"
    }
   ],
   "source": [
    "xgbr.predict(X)"
   ]
  },
  {
   "cell_type": "code",
   "execution_count": 15,
   "metadata": {},
   "outputs": [
    {
     "name": "stdout",
     "output_type": "stream",
     "text": [
      "MSE of boosted trees: 0.6835865692916593\n",
      "MSE of OLS: 2.36670651736035\n"
     ]
    }
   ],
   "source": [
    "from sklearn.metrics import mean_squared_error\n",
    "\n",
    "print(f'MSE of boosted trees: {mean_squared_error(Y, xgbr.predict(X))}')\n",
    "print(f'MSE of OLS: {mean_squared_error(Y, ols_fit.predict(X))}')"
   ]
  },
  {
   "cell_type": "code",
   "execution_count": 16,
   "metadata": {},
   "outputs": [
    {
     "name": "stdout",
     "output_type": "stream",
     "text": [
      "[24.819849]\n",
      "[6.88111027]\n"
     ]
    }
   ],
   "source": [
    "qs = 'what if thankfully whos username?'\n",
    "print(np.exp(pred_from_str(qs, xgbr, vectorizer)))\n",
    "print(np.exp(pred_from_str(qs, ols_fit, vectorizer)))"
   ]
  },
  {
   "cell_type": "code",
   "execution_count": 8,
   "metadata": {},
   "outputs": [
    {
     "name": "stdout",
     "output_type": "stream",
     "text": [
      "No. of training examples: 7982\n",
      "No. of testing examples: 1996\n"
     ]
    }
   ],
   "source": [
    "df = pd.DataFrame(data = X)\n",
    "df['Y'] = Y\n",
    "\n",
    "training_data = df.sample(frac = 0.8, random_state = 25)  # random_state serves as a seed\n",
    "testing_data = df.drop(training_data.index)\n",
    "\n",
    "print(f\"No. of training examples: {training_data.shape[0]}\")\n",
    "print(f\"No. of testing examples: {testing_data.shape[0]}\")\n",
    "\n",
    "del df"
   ]
  },
  {
   "cell_type": "code",
   "execution_count": 9,
   "metadata": {},
   "outputs": [],
   "source": [
    "X_train = training_data.drop('Y', axis = 1)\n",
    "X_test = testing_data.drop('Y', axis = 1)\n",
    "\n",
    "Y_train = training_data['Y']\n",
    "Y_test = testing_data['Y']"
   ]
  },
  {
   "cell_type": "code",
   "execution_count": 14,
   "metadata": {
    "scrolled": true
   },
   "outputs": [
    {
     "data": {
      "text/plain": [
       "array([-0.13508352, -0.12277632, -0.06752203, -0.10442074, -0.11076994])"
      ]
     },
     "execution_count": 14,
     "metadata": {},
     "output_type": "execute_result"
    }
   ],
   "source": [
    "from sklearn.ensemble import RandomForestRegressor\n",
    "from sklearn.model_selection import cross_val_score\n",
    "\n",
    "randForest = RandomForestRegressor().fit(X_train, Y_train)\n",
    "scores = cross_val_score(randForest, X_train, Y_train, cv = 5)\n",
    "scores"
   ]
  },
  {
   "cell_type": "code",
   "execution_count": 53,
   "metadata": {},
   "outputs": [
    {
     "name": "stdout",
     "output_type": "stream",
     "text": [
      "0.676335929737053\n",
      "0.694184824996021\n"
     ]
    }
   ],
   "source": [
    "from sklearn.linear_model import LinearRegression\n",
    "\n",
    "linReg = LinearRegression().fit(X_train, Y_train)\n",
    "lin_ypred = linReg.predict(X_train)\n",
    "print(mean_squared_error(Y_train, lin_ypred))\n",
    "\n",
    "scorelin = cross_val_score(LinearRegression(), X_train, Y_train, cv = 5, \n",
    "                           scoring = 'neg_mean_squared_error')\n",
    "print(-1*scorelin.mean())"
   ]
  },
  {
   "cell_type": "code",
   "execution_count": 16,
   "metadata": {},
   "outputs": [
    {
     "data": {
      "text/plain": [
       "0.0"
      ]
     },
     "execution_count": 16,
     "metadata": {},
     "output_type": "execute_result"
    }
   ],
   "source": [
    "from sklearn.linear_model import Lasso\n",
    "\n",
    "lassoReg = Lasso().fit(X_train, Y_train)\n",
    "lassoReg.score(X_train, Y_train)"
   ]
  },
  {
   "cell_type": "code",
   "execution_count": 56,
   "metadata": {},
   "outputs": [
    {
     "name": "stdout",
     "output_type": "stream",
     "text": [
      "0.6763387097664976\n",
      "0.6939658846812932\n"
     ]
    }
   ],
   "source": [
    "from sklearn.linear_model import Ridge\n",
    "\n",
    "ridgeReg = Ridge().fit(X_train, Y_train)\n",
    "ridge_ypred = ridgeReg.predict(X_train)\n",
    "print(mean_squared_error(Y_train, ridge_ypred))\n",
    "\n",
    "scoreridge = cross_val_score(Ridge(), X_train, Y_train, cv = 5, \n",
    "                           scoring = 'neg_mean_squared_error')\n",
    "print(-1*scoreridge.mean())"
   ]
  },
  {
   "cell_type": "code",
   "execution_count": 60,
   "metadata": {},
   "outputs": [
    {
     "name": "stdout",
     "output_type": "stream",
     "text": [
      "2.828248869367714\n"
     ]
    }
   ],
   "source": [
    "import statsmodels.api as sm\n",
    "\n",
    "ols = sm.OLS(Y_train, X_train)\n",
    "ols_fit = ols.fit()\n",
    "\n",
    "ols_ypred = ols_fit.predict(X_train)\n",
    "print(mean_squared_error(Y_train, ols_ypred))"
   ]
  },
  {
   "cell_type": "code",
   "execution_count": null,
   "metadata": {},
   "outputs": [],
   "source": []
  },
  {
   "cell_type": "code",
   "execution_count": 59,
   "metadata": {},
   "outputs": [],
   "source": [
    "del ols\n",
    "del ols_fit"
   ]
  },
  {
   "cell_type": "code",
   "execution_count": 43,
   "metadata": {},
   "outputs": [
    {
     "name": "stdout",
     "output_type": "stream",
     "text": [
      "0.4232551898203105\n",
      "0.9373989289273446\n"
     ]
    }
   ],
   "source": [
    "from sklearn.neural_network import MLPRegressor\n",
    "from sklearn.metrics import mean_squared_error\n",
    "\n",
    "mlpReg = MLPRegressor(max_iter = 500, random_state = 1).fit(X_train, Y_train)\n",
    "#print(mlpReg.score(X_train, Y_train))\n",
    "\n",
    "ypred = mlpReg.predict(X_train)\n",
    "print(mean_squared_error(Y_train, ypred))\n",
    "\n",
    "scoreMLP = cross_val_score(MLPRegressor(max_iter = 500, random_state = 1), X_train, Y_train, cv = 5, \n",
    "                           scoring = 'neg_mean_squared_error')\n",
    "print(-1*scoreMLP.mean())\n",
    "\n"
   ]
  },
  {
   "cell_type": "code",
   "execution_count": 52,
   "metadata": {},
   "outputs": [
    {
     "name": "stdout",
     "output_type": "stream",
     "text": [
      "0.7199426985446578\n",
      "0.8282334772548527\n"
     ]
    }
   ],
   "source": [
    "from sklearn.neighbors import KNeighborsRegressor\n",
    "\n",
    "kReg = KNeighborsRegressor().fit(X_train, Y_train)\n",
    "k_ypred = kReg.predict(X_train)\n",
    "print(mean_squared_error(Y_train, k_ypred))\n",
    "\n",
    "scoreK = cross_val_score(KNeighborsRegressor(), X_train, Y_train, cv = 5, \n",
    "                           scoring = 'neg_mean_squared_error')\n",
    "print(-1*scoreK.mean())\n",
    "\n"
   ]
  },
  {
   "cell_type": "code",
   "execution_count": 19,
   "metadata": {},
   "outputs": [
    {
     "data": {
      "text/plain": [
       "((159644, 500), (159644,))"
      ]
     },
     "execution_count": 19,
     "metadata": {},
     "output_type": "execute_result"
    }
   ],
   "source": [
    "X_train.shape, Y_train.shape"
   ]
  },
  {
   "cell_type": "code",
   "execution_count": 20,
   "metadata": {},
   "outputs": [
    {
     "data": {
      "text/plain": [
       "((39911, 500), (39911,))"
      ]
     },
     "execution_count": 20,
     "metadata": {},
     "output_type": "execute_result"
    }
   ],
   "source": [
    "X_test.shape, Y_test.shape"
   ]
  },
  {
   "cell_type": "code",
   "execution_count": null,
   "metadata": {},
   "outputs": [],
   "source": []
  }
 ],
 "metadata": {
  "interpreter": {
   "hash": "89a8dbf1c7ab353b6be4a3bb2e62a5f787febc420adf5378bc5c4c9cb5d108ef"
  },
  "kernelspec": {
   "display_name": "Python 3",
   "language": "python",
   "name": "python3"
  },
  "language_info": {
   "codemirror_mode": {
    "name": "ipython",
    "version": 3
   },
   "file_extension": ".py",
   "mimetype": "text/x-python",
   "name": "python",
   "nbconvert_exporter": "python",
   "pygments_lexer": "ipython3",
   "version": "3.8.8"
  }
 },
 "nbformat": 4,
 "nbformat_minor": 2
}
