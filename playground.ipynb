{
 "cells": [
  {
   "cell_type": "markdown",
   "metadata": {},
   "source": [
    "# PSTAT131 Final Project\n",
    "Sean Gao, Aya Zeplovitch\n",
    "\n",
    "## Introduction \n",
    "\n",
    "This project aims to predict the number of comments given the question of any [r/Askreddit](https://www.reddit.com/r/AskReddit/) question. r/Askreddit is a forum where redditors (Reddit users) post questions (about anything really). We try to find the answer to the following question: \"what kind of r/Askreddit questions garner the most interactions?\" This is an interesting question because as someone that regularly browses Reddit, there definitely exists a pattern between the posts that become popular.\n",
    "\n",
    "***\n",
    "\n",
    "## NLP\n",
    "\n",
    "As our data is going to be text data, we will have to use NLP techniques to transform text into machine readable dataframes. The most common techniques used are word-embedding, and bag-of-words. Here's approximately how they work:\n",
    "\n",
    "Suppose we have the following sentence: *\"I like my big pancakes\"*\n",
    "\n",
    "We can make our list of vocabulary from this sentence: **'I', 'like', 'my', big', 'pancakes'**. Both techniques uses the one-hot (or multi-hot in the case of bag-of-words) encoding (i.e., the word 'like' would be represented by a vector **[0, 1, 0, 0, 0]**). \n",
    "\n",
    "###  Word-embedding\n",
    "\n",
    "In the case of word-embedding, a $m \\times n$ matrix will be created, where $m$ is the number of words in the sentence, and $n$ is the number of words in our total vocabulary. As such, our sentence will be represented as such:\n",
    "\n",
    "||I|like|my|big|pancakes|\n",
    "|---|---|---|---|---|---|\n",
    "|1|1|0|0|0|0|\n",
    "|2|0|1|0|0|0|\n",
    "|3|0|0|1|0|0|\n",
    "|4|0|0|0|1|0|\n",
    "|5|0|0|0|0|1|\n",
    "\n",
    "### Bag-of-words\n",
    "\n",
    "In the case of bag-of-words, a single array of length $m$ will be created. The value at each index will be the number of occurrences of the word that index represents. With the same vocabulary, *'I like pancakes.'* would be represented as such:\n",
    "\n",
    "|I|like|my|big|pancakes|\n",
    "|---|---|---|---|---|\n",
    "|1|1|0|0|1|\n",
    "\n",
    "### Word-embedding vs bag-of-words\n",
    "\n",
    "Word-embedding "
   ]
  },
  {
   "cell_type": "code",
   "execution_count": 11,
   "metadata": {},
   "outputs": [],
   "source": [
    "import pandas as pd\n",
    "import numpy as np\n",
    "import matplotlib.pyplot as plt\n",
    "import nltk\n",
    "import pickle\n",
    "import os\n",
    "\n",
    "from sklearn.feature_extraction.text import CountVectorizer\n",
    "from sklearn.metrics import mean_squared_error\n",
    "from sklearn.model_selection import cross_val_score\n",
    "from tqdm import tqdm"
   ]
  },
  {
   "cell_type": "code",
   "execution_count": 2,
   "metadata": {},
   "outputs": [],
   "source": [
    "PCT_DATA = .01\n",
    "N_VOCAB = 100"
   ]
  },
  {
   "cell_type": "code",
   "execution_count": 3,
   "metadata": {},
   "outputs": [],
   "source": [
    "def rm_stop(words):\n",
    "    new_words = []\n",
    "    stop_words = nltk.corpus.stopwords.words('english')\n",
    "\n",
    "    for w in words:\n",
    "        if w not in stop_words:\n",
    "            new_words.append(w)\n",
    "    return new_words\n",
    "\n",
    "def build_data(pct_data=PCT_DATA):\n",
    "    raw_df = pd.read_csv('data/finaldataset.csv')\n",
    "    raw_df = raw_df.iloc[:round(raw_df.shape[0] * pct_data)]\n",
    "\n",
    "    df = raw_df[['num_comments', 'title']]\n",
    "    del raw_df\n",
    "\n",
    "    df.loc[:,'title'] = df['title'].str.lower()\n",
    "    tokenizer = nltk.RegexpTokenizer(r'\\b[(a-z)]+\\b')\n",
    "\n",
    "    df.loc[:,'tokenized'] = df['title'].apply(tokenizer.tokenize)\n",
    "\n",
    "    df['tokenized'] = df['tokenized'].apply(rm_stop)\n",
    "    df['text'] = df['tokenized'].apply(lambda x: ' '.join([word for word in x]))\n",
    "\n",
    "    return df\n",
    "\n",
    "def fit_n_vocab(df, n_vocab=N_VOCAB):\n",
    "    vectorizer = CountVectorizer(max_features=n_vocab)\n",
    "    vecfit = vectorizer.fit_transform(df['text'])\n",
    "    X = vecfit.toarray()\n",
    "\n",
    "    vocab = vectorizer.get_feature_names()\n",
    "    Y = df['num_comments'].to_numpy()\n",
    "\n",
    "    return X, Y, vocab, vectorizer \n",
    "\n",
    "def pct_no_words(X):\n",
    "    return sum(np.sum(X, axis=1) > 0)/X.shape[0]\n",
    "\n",
    "def pred_from_str(q, m, vec):\n",
    "    tokenizer = nltk.RegexpTokenizer(r'\\b[(a-z)]+\\b')\n",
    "\n",
    "    q = tokenizer.tokenize(q)\n",
    "    q = rm_stop(q)\n",
    "\n",
    "    j = lambda x: ' '.join([word for word in x])\n",
    "    q = j(q)\n",
    "    pred_X = vec.transform(pd.Series(q)).toarray()\n",
    "\n",
    "    pred = m.predict(pred_X)\n",
    "\n",
    "    return pred"
   ]
  },
  {
   "cell_type": "code",
   "execution_count": 4,
   "metadata": {},
   "outputs": [
    {
     "data": {
      "image/png": "[encoded data removed]",
      "text/plain": [
       "<Figure size 432x288 with 1 Axes>"
      ]
     },
     "metadata": {
      "needs_background": "light"
     },
     "output_type": "display_data"
    }
   ],
   "source": [
    "# set run = True if first time running, False otherwise as it takes a while to run\n",
    "run = False\n",
    "\n",
    "if run:\n",
    "    pct_vals = []\n",
    "    df = build_data()\n",
    "\n",
    "    for i in tqdm(np.arange(100, 5001, 50)):\n",
    "        X = fit_n_vocab(df=df, n_vocab=i)[0]\n",
    "        pct = pct_no_words(X)\n",
    "        pct_vals.append([i, pct])\n",
    "    pct_df = pd.DataFrame(pct_vals, columns=['n_vocab', 'pct_words'])\n",
    "    pct_df.to_csv('pct_df.csv')\n",
    "else:\n",
    "    pct_df = pd.read_csv('pct_df.csv')\n",
    "\n",
    "plt.plot(pct_df['n_vocab'], pct_df['pct_words'])\n",
    "plt.xlabel('Number of words in the bag of words')\n",
    "plt.ylabel('Percent of obs. with 0 words from the bag of words')\n",
    "\n",
    "plt.show()"
   ]
  },
  {
   "cell_type": "code",
   "execution_count": 5,
   "metadata": {},
   "outputs": [
    {
     "name": "stderr",
     "output_type": "stream",
     "text": [
      "C:\\Users\\Sean\\AppData\\Local\\Temp\\ipykernel_8816\\4069117706.py:11: DtypeWarning: Columns (7,8,61,62,66,67,70,71,72,73,74,75) have mixed types. Specify dtype option on import or set low_memory=False.\n",
      "  raw_df = pd.read_csv('data/finaldataset.csv')\n",
      "C:\\Users\\Sean\\AppData\\Local\\Programs\\Python\\Python310\\lib\\site-packages\\sklearn\\utils\\deprecation.py:87: FutureWarning: Function get_feature_names is deprecated; get_feature_names is deprecated in 1.0 and will be removed in 1.2. Please use get_feature_names_out instead.\n",
      "  warnings.warn(msg, category=FutureWarning)\n"
     ]
    }
   ],
   "source": [
    "df = build_data()\n",
    "X, Y, vocab, vectorizer = fit_n_vocab(df=df, n_vocab=N_VOCAB)\n",
    "\n",
    "\n",
    "# Y transformation\n",
    "Y = np.log(Y, dtype=float)\n",
    "\n",
    "del df"
   ]
  },
  {
   "cell_type": "code",
   "execution_count": 49,
   "metadata": {},
   "outputs": [
    {
     "data": {
      "text/plain": [
       "(array([3.279e+03, 4.125e+03, 2.126e+03, 3.370e+02, 6.200e+01, 2.100e+01,\n",
       "        9.000e+00, 8.000e+00, 4.000e+00, 7.000e+00]),\n",
       " array([1.09861229, 1.98653168, 2.87445107, 3.76237047, 4.65028986,\n",
       "        5.53820925, 6.42612865, 7.31404804, 8.20196743, 9.08988682,\n",
       "        9.97780622]),\n",
       " <BarContainer object of 10 artists>)"
      ]
     },
     "execution_count": 49,
     "metadata": {},
     "output_type": "execute_result"
    },
    {
     "data": {
      "image/png": "[encoded data removed]",
      "text/plain": [
       "<Figure size 432x288 with 1 Axes>"
      ]
     },
     "metadata": {
      "needs_background": "light"
     },
     "output_type": "display_data"
    }
   ],
   "source": [
    "plt.hist(Y)"
   ]
  },
  {
   "cell_type": "code",
   "execution_count": 6,
   "metadata": {},
   "outputs": [],
   "source": [
    "import statsmodels.api as sm\n",
    "\n",
    "ols = sm.OLS(Y, X)\n",
    "ols_fit = ols.fit()\n",
    "\n",
    "# https://stackoverflow.com/questions/51734180/converting-statsmodels-summary-object-to-pandas-dataframe\n",
    "vocab_coeff_df = pd.DataFrame({'word': vocab, 'coeff': ols_fit.params, 'pval': ols_fit.pvalues})"
   ]
  },
  {
   "cell_type": "code",
   "execution_count": 7,
   "metadata": {},
   "outputs": [
    {
     "data": {
      "text/html": [
       "<div>\n",
       "<style scoped>\n",
       "    .dataframe tbody tr th:only-of-type {\n",
       "        vertical-align: middle;\n",
       "    }\n",
       "\n",
       "    .dataframe tbody tr th {\n",
       "        vertical-align: top;\n",
       "    }\n",
       "\n",
       "    .dataframe thead th {\n",
       "        text-align: right;\n",
       "    }\n",
       "</style>\n",
       "<table border=\"1\" class=\"dataframe\">\n",
       "  <thead>\n",
       "    <tr style=\"text-align: right;\">\n",
       "      <th></th>\n",
       "      <th>word</th>\n",
       "      <th>coeff</th>\n",
       "      <th>pval</th>\n",
       "    </tr>\n",
       "  </thead>\n",
       "  <tbody>\n",
       "    <tr>\n",
       "      <th>54</th>\n",
       "      <td>opinion</td>\n",
       "      <td>1.835214</td>\n",
       "      <td>4.451592e-22</td>\n",
       "    </tr>\n",
       "    <tr>\n",
       "      <th>19</th>\n",
       "      <td>favourite</td>\n",
       "      <td>1.719135</td>\n",
       "      <td>5.712537e-21</td>\n",
       "    </tr>\n",
       "    <tr>\n",
       "      <th>81</th>\n",
       "      <td>thoughts</td>\n",
       "      <td>1.693542</td>\n",
       "      <td>5.618813e-21</td>\n",
       "    </tr>\n",
       "    <tr>\n",
       "      <th>5</th>\n",
       "      <td>biggest</td>\n",
       "      <td>1.687383</td>\n",
       "      <td>4.545969e-24</td>\n",
       "    </tr>\n",
       "    <tr>\n",
       "      <th>18</th>\n",
       "      <td>favorite</td>\n",
       "      <td>1.574314</td>\n",
       "      <td>5.476186e-59</td>\n",
       "    </tr>\n",
       "    <tr>\n",
       "      <th>...</th>\n",
       "      <td>...</td>\n",
       "      <td>...</td>\n",
       "      <td>...</td>\n",
       "    </tr>\n",
       "    <tr>\n",
       "      <th>75</th>\n",
       "      <td>take</td>\n",
       "      <td>0.247871</td>\n",
       "      <td>1.940359e-01</td>\n",
       "    </tr>\n",
       "    <tr>\n",
       "      <th>51</th>\n",
       "      <td>new</td>\n",
       "      <td>0.216357</td>\n",
       "      <td>2.445209e-01</td>\n",
       "    </tr>\n",
       "    <tr>\n",
       "      <th>24</th>\n",
       "      <td>friend</td>\n",
       "      <td>0.193925</td>\n",
       "      <td>1.816036e-01</td>\n",
       "    </tr>\n",
       "    <tr>\n",
       "      <th>10</th>\n",
       "      <td>could</td>\n",
       "      <td>0.179389</td>\n",
       "      <td>7.600573e-02</td>\n",
       "    </tr>\n",
       "    <tr>\n",
       "      <th>1</th>\n",
       "      <td>back</td>\n",
       "      <td>0.057469</td>\n",
       "      <td>6.884641e-01</td>\n",
       "    </tr>\n",
       "  </tbody>\n",
       "</table>\n",
       "<p>100 rows × 3 columns</p>\n",
       "</div>"
      ],
      "text/plain": [
       "         word     coeff          pval\n",
       "54    opinion  1.835214  4.451592e-22\n",
       "19  favourite  1.719135  5.712537e-21\n",
       "81   thoughts  1.693542  5.618813e-21\n",
       "5     biggest  1.687383  4.545969e-24\n",
       "18   favorite  1.574314  5.476186e-59\n",
       "..        ...       ...           ...\n",
       "75       take  0.247871  1.940359e-01\n",
       "51        new  0.216357  2.445209e-01\n",
       "24     friend  0.193925  1.816036e-01\n",
       "10      could  0.179389  7.600573e-02\n",
       "1        back  0.057469  6.884641e-01\n",
       "\n",
       "[100 rows x 3 columns]"
      ]
     },
     "execution_count": 7,
     "metadata": {},
     "output_type": "execute_result"
    }
   ],
   "source": [
    "vocab_coeff_df.sort_values('coeff', ascending=False)"
   ]
  },
  {
   "cell_type": "code",
   "execution_count": 6,
   "metadata": {},
   "outputs": [
    {
     "name": "stdout",
     "output_type": "stream",
     "text": [
      "No. of training examples: 7982\n",
      "No. of testing examples: 1996\n"
     ]
    }
   ],
   "source": [
    "df = pd.DataFrame(data = X)\n",
    "df['Y'] = Y\n",
    "\n",
    "training_data = df.sample(frac = 0.8, random_state = 25)  # random_state serves as a seed\n",
    "testing_data = df.drop(training_data.index)\n",
    "\n",
    "print(f\"No. of training examples: {training_data.shape[0]}\")\n",
    "print(f\"No. of testing examples: {testing_data.shape[0]}\")\n",
    "\n",
    "del df"
   ]
  },
  {
   "cell_type": "code",
   "execution_count": 7,
   "metadata": {},
   "outputs": [],
   "source": [
    "X_train = training_data.drop('Y', axis = 1)\n",
    "X_test = testing_data.drop('Y', axis = 1)\n",
    "\n",
    "Y_train = training_data['Y']\n",
    "Y_test = testing_data['Y']\n",
    "\n",
    "del training_data\n",
    "del testing_data"
   ]
  },
  {
   "cell_type": "code",
   "execution_count": 36,
   "metadata": {},
   "outputs": [],
   "source": [
    "from scipy import stats\n",
    "\n",
    "# code from: https://stackoverflow.com/questions/27928275/find-p-value-significance-in-scikit-learn-linearregression\n",
    "def make_lr_dict(m, y, p):\n",
    "    params = np.append(linReg.intercept_,linReg.coef_)\n",
    "    predictions = p\n",
    "\n",
    "    newX = pd.DataFrame({\"Constant\":np.ones(len(X))}).join(pd.DataFrame(X))\n",
    "    MSE = (sum((y-predictions)**2))/(len(newX)-len(newX.columns))\n",
    "\n",
    "    # Note if you don't want to use a DataFrame replace the two lines above with\n",
    "    # newX = np.append(np.ones((len(X),1)), X, axis=1)\n",
    "    # MSE = (sum((y-predictions)**2))/(len(newX)-len(newX[0]))\n",
    "\n",
    "    var_b = MSE*(np.linalg.inv(np.dot(newX.T,newX)).diagonal())\n",
    "    sd_b = np.sqrt(var_b)\n",
    "    ts_b = params/ sd_b\n",
    "\n",
    "    p_values =[2*(1-stats.t.cdf(np.abs(i),(len(newX)-len(newX[0])))) for i in ts_b]\n",
    "\n",
    "    sd_b = np.round(sd_b,3)\n",
    "    ts_b = np.round(ts_b,3)\n",
    "    #p_values = np.round(p_values,3)\n",
    "    params = np.round(params,4)\n",
    "\n",
    "    myDF3 = pd.DataFrame()\n",
    "    myDF3[\"Coefficients\"],myDF3[\"Standard Errors\"],myDF3[\"t values\"],myDF3[\"Probabilities\"] = [params,sd_b,ts_b,p_values]\n",
    "    return myDF3.drop([0])"
   ]
  },
  {
   "cell_type": "code",
   "execution_count": 14,
   "metadata": {
    "scrolled": true
   },
   "outputs": [
    {
     "data": {
      "text/plain": [
       "array([-0.13508352, -0.12277632, -0.06752203, -0.10442074, -0.11076994])"
      ]
     },
     "execution_count": 14,
     "metadata": {},
     "output_type": "execute_result"
    }
   ],
   "source": [
    "from sklearn.ensemble import RandomForestRegressor\n",
    "\n",
    "randForest = RandomForestRegressor().fit(X_train, Y_train)\n",
    "scores = cross_val_score(randForest, X_train, Y_train, cv = 5)\n",
    "scores"
   ]
  },
  {
   "cell_type": "code",
   "execution_count": 12,
   "metadata": {},
   "outputs": [
    {
     "name": "stdout",
     "output_type": "stream",
     "text": [
      "0.676335929737053\n",
      "0.6941848249960213\n"
     ]
    }
   ],
   "source": [
    "from sklearn.linear_model import LinearRegression\n",
    "\n",
    "linReg = LinearRegression().fit(X_train, Y_train)\n",
    "lin_ypred = linReg.predict(X_train)\n",
    "print(mean_squared_error(Y_train, lin_ypred))\n",
    "\n",
    "scorelin = cross_val_score(LinearRegression(), X_train, Y_train, cv = 5, \n",
    "                           scoring = 'neg_mean_squared_error')\n",
    "print(-1*scorelin.mean())"
   ]
  },
  {
   "cell_type": "code",
   "execution_count": 38,
   "metadata": {},
   "outputs": [
    {
     "data": {
      "text/html": [
       "<div>\n",
       "<style scoped>\n",
       "    .dataframe tbody tr th:only-of-type {\n",
       "        vertical-align: middle;\n",
       "    }\n",
       "\n",
       "    .dataframe tbody tr th {\n",
       "        vertical-align: top;\n",
       "    }\n",
       "\n",
       "    .dataframe thead th {\n",
       "        text-align: right;\n",
       "    }\n",
       "</style>\n",
       "<table border=\"1\" class=\"dataframe\">\n",
       "  <thead>\n",
       "    <tr style=\"text-align: right;\">\n",
       "      <th></th>\n",
       "      <th>Coefficients</th>\n",
       "      <th>Standard Errors</th>\n",
       "      <th>t values</th>\n",
       "      <th>Probabilities</th>\n",
       "      <th>word</th>\n",
       "    </tr>\n",
       "  </thead>\n",
       "  <tbody>\n",
       "    <tr>\n",
       "      <th>69</th>\n",
       "      <td>0.6239</td>\n",
       "      <td>0.069</td>\n",
       "      <td>9.028</td>\n",
       "      <td>NaN</td>\n",
       "      <td>sex</td>\n",
       "    </tr>\n",
       "    <tr>\n",
       "      <th>55</th>\n",
       "      <td>0.2262</td>\n",
       "      <td>0.083</td>\n",
       "      <td>2.729</td>\n",
       "      <td>NaN</td>\n",
       "      <td>opinion</td>\n",
       "    </tr>\n",
       "    <tr>\n",
       "      <th>20</th>\n",
       "      <td>0.2147</td>\n",
       "      <td>0.080</td>\n",
       "      <td>2.690</td>\n",
       "      <td>NaN</td>\n",
       "      <td>favourite</td>\n",
       "    </tr>\n",
       "    <tr>\n",
       "      <th>53</th>\n",
       "      <td>0.2096</td>\n",
       "      <td>0.079</td>\n",
       "      <td>2.670</td>\n",
       "      <td>NaN</td>\n",
       "      <td>old</td>\n",
       "    </tr>\n",
       "    <tr>\n",
       "      <th>86</th>\n",
       "      <td>0.1828</td>\n",
       "      <td>0.082</td>\n",
       "      <td>2.231</td>\n",
       "      <td>NaN</td>\n",
       "      <td>us</td>\n",
       "    </tr>\n",
       "    <tr>\n",
       "      <th>...</th>\n",
       "      <td>...</td>\n",
       "      <td>...</td>\n",
       "      <td>...</td>\n",
       "      <td>...</td>\n",
       "      <td>...</td>\n",
       "    </tr>\n",
       "    <tr>\n",
       "      <th>52</th>\n",
       "      <td>-0.2541</td>\n",
       "      <td>0.081</td>\n",
       "      <td>-3.141</td>\n",
       "      <td>NaN</td>\n",
       "      <td>new</td>\n",
       "    </tr>\n",
       "    <tr>\n",
       "      <th>18</th>\n",
       "      <td>-0.2583</td>\n",
       "      <td>0.069</td>\n",
       "      <td>-3.751</td>\n",
       "      <td>NaN</td>\n",
       "      <td>family</td>\n",
       "    </tr>\n",
       "    <tr>\n",
       "      <th>17</th>\n",
       "      <td>-0.2974</td>\n",
       "      <td>0.075</td>\n",
       "      <td>-3.980</td>\n",
       "      <td>NaN</td>\n",
       "      <td>experience</td>\n",
       "    </tr>\n",
       "    <tr>\n",
       "      <th>46</th>\n",
       "      <td>-0.4353</td>\n",
       "      <td>0.067</td>\n",
       "      <td>-6.468</td>\n",
       "      <td>NaN</td>\n",
       "      <td>moment</td>\n",
       "    </tr>\n",
       "    <tr>\n",
       "      <th>75</th>\n",
       "      <td>-0.4870</td>\n",
       "      <td>0.071</td>\n",
       "      <td>-6.873</td>\n",
       "      <td>NaN</td>\n",
       "      <td>story</td>\n",
       "    </tr>\n",
       "  </tbody>\n",
       "</table>\n",
       "<p>100 rows × 5 columns</p>\n",
       "</div>"
      ],
      "text/plain": [
       "    Coefficients  Standard Errors  t values  Probabilities        word\n",
       "69        0.6239            0.069     9.028            NaN         sex\n",
       "55        0.2262            0.083     2.729            NaN     opinion\n",
       "20        0.2147            0.080     2.690            NaN   favourite\n",
       "53        0.2096            0.079     2.670            NaN         old\n",
       "86        0.1828            0.082     2.231            NaN          us\n",
       "..           ...              ...       ...            ...         ...\n",
       "52       -0.2541            0.081    -3.141            NaN         new\n",
       "18       -0.2583            0.069    -3.751            NaN      family\n",
       "17       -0.2974            0.075    -3.980            NaN  experience\n",
       "46       -0.4353            0.067    -6.468            NaN      moment\n",
       "75       -0.4870            0.071    -6.873            NaN       story\n",
       "\n",
       "[100 rows x 5 columns]"
      ]
     },
     "execution_count": 38,
     "metadata": {},
     "output_type": "execute_result"
    }
   ],
   "source": [
    "lr_df = make_lr_dict(linReg, Y_train, lin_ypred)\n",
    "lr_df['word'] = vocab\n",
    "lr_df.sort_values(by=['Coefficients'], ascending=False)"
   ]
  },
  {
   "cell_type": "code",
   "execution_count": 24,
   "metadata": {},
   "outputs": [
    {
     "data": {
      "text/html": [
       "<div>\n",
       "<style scoped>\n",
       "    .dataframe tbody tr th:only-of-type {\n",
       "        vertical-align: middle;\n",
       "    }\n",
       "\n",
       "    .dataframe tbody tr th {\n",
       "        vertical-align: top;\n",
       "    }\n",
       "\n",
       "    .dataframe thead th {\n",
       "        text-align: right;\n",
       "    }\n",
       "</style>\n",
       "<table border=\"1\" class=\"dataframe\">\n",
       "  <thead>\n",
       "    <tr style=\"text-align: right;\">\n",
       "      <th></th>\n",
       "      <th>Coefficients</th>\n",
       "      <th>Standard Errors</th>\n",
       "      <th>t values</th>\n",
       "      <th>Probabilities</th>\n",
       "    </tr>\n",
       "  </thead>\n",
       "  <tbody>\n",
       "    <tr>\n",
       "      <th>0</th>\n",
       "      <td>2.4888</td>\n",
       "      <td>0.012</td>\n",
       "      <td>199.614</td>\n",
       "      <td>NaN</td>\n",
       "    </tr>\n",
       "    <tr>\n",
       "      <th>1</th>\n",
       "      <td>-0.0990</td>\n",
       "      <td>0.062</td>\n",
       "      <td>-1.601</td>\n",
       "      <td>NaN</td>\n",
       "    </tr>\n",
       "    <tr>\n",
       "      <th>2</th>\n",
       "      <td>0.0228</td>\n",
       "      <td>0.062</td>\n",
       "      <td>0.366</td>\n",
       "      <td>NaN</td>\n",
       "    </tr>\n",
       "    <tr>\n",
       "      <th>3</th>\n",
       "      <td>-0.0657</td>\n",
       "      <td>0.080</td>\n",
       "      <td>-0.819</td>\n",
       "      <td>NaN</td>\n",
       "    </tr>\n",
       "    <tr>\n",
       "      <th>4</th>\n",
       "      <td>-0.0915</td>\n",
       "      <td>0.036</td>\n",
       "      <td>-2.517</td>\n",
       "      <td>NaN</td>\n",
       "    </tr>\n",
       "    <tr>\n",
       "      <th>...</th>\n",
       "      <td>...</td>\n",
       "      <td>...</td>\n",
       "      <td>...</td>\n",
       "      <td>...</td>\n",
       "    </tr>\n",
       "    <tr>\n",
       "      <th>96</th>\n",
       "      <td>-0.0514</td>\n",
       "      <td>0.049</td>\n",
       "      <td>-1.059</td>\n",
       "      <td>NaN</td>\n",
       "    </tr>\n",
       "    <tr>\n",
       "      <th>97</th>\n",
       "      <td>0.0144</td>\n",
       "      <td>0.046</td>\n",
       "      <td>0.311</td>\n",
       "      <td>NaN</td>\n",
       "    </tr>\n",
       "    <tr>\n",
       "      <th>98</th>\n",
       "      <td>0.0074</td>\n",
       "      <td>0.023</td>\n",
       "      <td>0.324</td>\n",
       "      <td>NaN</td>\n",
       "    </tr>\n",
       "    <tr>\n",
       "      <th>99</th>\n",
       "      <td>-0.1895</td>\n",
       "      <td>0.063</td>\n",
       "      <td>-3.012</td>\n",
       "      <td>NaN</td>\n",
       "    </tr>\n",
       "    <tr>\n",
       "      <th>100</th>\n",
       "      <td>0.0609</td>\n",
       "      <td>0.070</td>\n",
       "      <td>0.874</td>\n",
       "      <td>NaN</td>\n",
       "    </tr>\n",
       "  </tbody>\n",
       "</table>\n",
       "<p>101 rows × 4 columns</p>\n",
       "</div>"
      ],
      "text/plain": [
       "     Coefficients  Standard Errors  t values  Probabilities\n",
       "0          2.4888            0.012   199.614            NaN\n",
       "1         -0.0990            0.062    -1.601            NaN\n",
       "2          0.0228            0.062     0.366            NaN\n",
       "3         -0.0657            0.080    -0.819            NaN\n",
       "4         -0.0915            0.036    -2.517            NaN\n",
       "..            ...              ...       ...            ...\n",
       "96        -0.0514            0.049    -1.059            NaN\n",
       "97         0.0144            0.046     0.311            NaN\n",
       "98         0.0074            0.023     0.324            NaN\n",
       "99        -0.1895            0.063    -3.012            NaN\n",
       "100        0.0609            0.070     0.874            NaN\n",
       "\n",
       "[101 rows x 4 columns]"
      ]
     },
     "execution_count": 24,
     "metadata": {},
     "output_type": "execute_result"
    }
   ],
   "source": [
    "lr_df"
   ]
  },
  {
   "cell_type": "code",
   "execution_count": null,
   "metadata": {},
   "outputs": [],
   "source": [
    "df"
   ]
  },
  {
   "cell_type": "code",
   "execution_count": 16,
   "metadata": {},
   "outputs": [
    {
     "data": {
      "text/plain": [
       "0.0"
      ]
     },
     "execution_count": 16,
     "metadata": {},
     "output_type": "execute_result"
    }
   ],
   "source": [
    "from sklearn.linear_model import Lasso\n",
    "\n",
    "lassoReg = Lasso().fit(X_train, Y_train)\n",
    "lassoReg.score(X_train, Y_train)"
   ]
  },
  {
   "cell_type": "code",
   "execution_count": 56,
   "metadata": {},
   "outputs": [
    {
     "name": "stdout",
     "output_type": "stream",
     "text": [
      "0.6763387097664976\n",
      "0.6939658846812932\n"
     ]
    }
   ],
   "source": [
    "from sklearn.linear_model import Ridge\n",
    "\n",
    "ridgeReg = Ridge().fit(X_train, Y_train)\n",
    "ridge_ypred = ridgeReg.predict(X_train)\n",
    "print(mean_squared_error(Y_train, ridge_ypred))\n",
    "\n",
    "scoreridge = cross_val_score(Ridge(), X_train, Y_train, cv = 5, \n",
    "                           scoring = 'neg_mean_squared_error')\n",
    "print(-1*scoreridge.mean())"
   ]
  },
  {
   "cell_type": "code",
   "execution_count": 60,
   "metadata": {},
   "outputs": [
    {
     "name": "stdout",
     "output_type": "stream",
     "text": [
      "2.828248869367714\n"
     ]
    }
   ],
   "source": [
    "import statsmodels.api as sm\n",
    "\n",
    "ols = sm.OLS(Y_train, X_train)\n",
    "ols_fit = ols.fit()\n",
    "\n",
    "ols_ypred = ols_fit.predict(X_train)\n",
    "print(mean_squared_error(Y_train, ols_ypred))"
   ]
  },
  {
   "cell_type": "code",
   "execution_count": 59,
   "metadata": {},
   "outputs": [],
   "source": [
    "del ols\n",
    "del ols_fit"
   ]
  },
  {
   "cell_type": "code",
   "execution_count": 43,
   "metadata": {},
   "outputs": [
    {
     "name": "stdout",
     "output_type": "stream",
     "text": [
      "0.4232551898203105\n",
      "0.9373989289273446\n"
     ]
    }
   ],
   "source": [
    "from sklearn.neural_network import MLPRegressor\n",
    "\n",
    "mlpReg = MLPRegressor(max_iter = 500, random_state = 1).fit(X_train, Y_train)\n",
    "#print(mlpReg.score(X_train, Y_train))\n",
    "\n",
    "ypred = mlpReg.predict(X_train)\n",
    "print(mean_squared_error(Y_train, ypred))\n",
    "\n",
    "scoreMLP = cross_val_score(MLPRegressor(max_iter = 500, random_state = 1), X_train, Y_train, cv = 5, \n",
    "                           scoring = 'neg_mean_squared_error')\n",
    "print(-1*scoreMLP.mean())\n",
    "\n"
   ]
  },
  {
   "cell_type": "code",
   "execution_count": 52,
   "metadata": {},
   "outputs": [
    {
     "name": "stdout",
     "output_type": "stream",
     "text": [
      "0.7199426985446578\n",
      "0.8282334772548527\n"
     ]
    }
   ],
   "source": [
    "from sklearn.neighbors import KNeighborsRegressor\n",
    "\n",
    "kReg = KNeighborsRegressor().fit(X_train, Y_train)\n",
    "k_ypred = kReg.predict(X_train)\n",
    "print(mean_squared_error(Y_train, k_ypred))\n",
    "\n",
    "scoreK = cross_val_score(KNeighborsRegressor(), X_train, Y_train, cv = 5, \n",
    "                           scoring = 'neg_mean_squared_error')\n",
    "print(-1*scoreK.mean())\n",
    "\n"
   ]
  },
  {
   "cell_type": "code",
   "execution_count": 19,
   "metadata": {},
   "outputs": [
    {
     "data": {
      "text/plain": [
       "((159644, 500), (159644,))"
      ]
     },
     "execution_count": 19,
     "metadata": {},
     "output_type": "execute_result"
    }
   ],
   "source": [
    "X_train.shape, Y_train.shape"
   ]
  },
  {
   "cell_type": "code",
   "execution_count": 20,
   "metadata": {},
   "outputs": [
    {
     "data": {
      "text/plain": [
       "((39911, 500), (39911,))"
      ]
     },
     "execution_count": 20,
     "metadata": {},
     "output_type": "execute_result"
    }
   ],
   "source": [
    "X_test.shape, Y_test.shape"
   ]
  },
  {
   "cell_type": "code",
   "execution_count": null,
   "metadata": {},
   "outputs": [],
   "source": []
  }
 ],
 "metadata": {
  "interpreter": {
   "hash": "89a8dbf1c7ab353b6be4a3bb2e62a5f787febc420adf5378bc5c4c9cb5d108ef"
  },
  "kernelspec": {
   "display_name": "Python 3",
   "language": "python",
   "name": "python3"
  },
  "language_info": {
   "codemirror_mode": {
    "name": "ipython",
    "version": 3
   },
   "file_extension": ".py",
   "mimetype": "text/x-python",
   "name": "python",
   "nbconvert_exporter": "python",
   "pygments_lexer": "ipython3",
   "version": "3.10.2"
  }
 },
 "nbformat": 4,
 "nbformat_minor": 2
}
