{
 "cells": [
  {
   "cell_type": "code",
   "execution_count": 1,
   "metadata": {},
   "outputs": [],
   "source": [
    "import pandas as pd\n",
    "import numpy as np\n",
    "import matplotlib.pyplot as plt\n",
    "import nltk\n",
    "\n",
    "from sklearn.feature_extraction.text import CountVectorizer\n",
    "from tqdm import tqdm"
   ]
  },
  {
   "cell_type": "code",
   "execution_count": 2,
   "metadata": {},
   "outputs": [
    {
     "name": "stderr",
     "output_type": "stream",
     "text": [
      "C:\\Users\\Sean\\AppData\\Local\\Temp\\ipykernel_10960\\627538862.py:1: DtypeWarning: Columns (10,11,63,66,68,70,71) have mixed types. Specify dtype option on import or set low_memory=False.\n",
      "  raw_df = pd.read_csv('288821rows.csv')\n"
     ]
    }
   ],
   "source": [
    "raw_df = pd.read_csv('data/288821rows.csv')"
   ]
  },
  {
   "cell_type": "code",
   "execution_count": 3,
   "metadata": {},
   "outputs": [],
   "source": [
    "df = raw_df[['num_comments', 'title']]"
   ]
  },
  {
   "cell_type": "code",
   "execution_count": 4,
   "metadata": {},
   "outputs": [
    {
     "name": "stderr",
     "output_type": "stream",
     "text": [
      "C:\\Users\\Sean\\AppData\\Local\\Temp\\ipykernel_10960\\989622944.py:1: SettingWithCopyWarning: \n",
      "A value is trying to be set on a copy of a slice from a DataFrame.\n",
      "Try using .loc[row_indexer,col_indexer] = value instead\n",
      "\n",
      "See the caveats in the documentation: https://pandas.pydata.org/pandas-docs/stable/user_guide/indexing.html#returning-a-view-versus-a-copy\n",
      "  df.loc[:,'title'] = df['title'].str.lower()\n"
     ]
    }
   ],
   "source": [
    "df.loc[:,'title'] = df['title'].str.lower()"
   ]
  },
  {
   "cell_type": "code",
   "execution_count": 5,
   "metadata": {},
   "outputs": [
    {
     "name": "stderr",
     "output_type": "stream",
     "text": [
      "C:\\Users\\Sean\\AppData\\Local\\Temp\\ipykernel_10960\\1085512727.py:3: SettingWithCopyWarning: \n",
      "A value is trying to be set on a copy of a slice from a DataFrame.\n",
      "Try using .loc[row_indexer,col_indexer] = value instead\n",
      "\n",
      "See the caveats in the documentation: https://pandas.pydata.org/pandas-docs/stable/user_guide/indexing.html#returning-a-view-versus-a-copy\n",
      "  df.loc[:,'tokenized'] = df['title'].apply(tokenizer.tokenize)\n"
     ]
    }
   ],
   "source": [
    "tokenizer = nltk.RegexpTokenizer(r'\\b[(a-z)]+\\b')\n",
    "\n",
    "df.loc[:,'tokenized'] = df['title'].apply(tokenizer.tokenize)"
   ]
  },
  {
   "cell_type": "code",
   "execution_count": 6,
   "metadata": {},
   "outputs": [],
   "source": [
    "stop_words = nltk.corpus.stopwords.words('english')\n",
    "\n",
    "def rm_stop(words):\n",
    "    new_words = []\n",
    "    for w in words:\n",
    "        if w not in stop_words:\n",
    "            new_words.append(w)\n",
    "    return new_words"
   ]
  },
  {
   "cell_type": "code",
   "execution_count": 7,
   "metadata": {},
   "outputs": [
    {
     "name": "stderr",
     "output_type": "stream",
     "text": [
      "C:\\Users\\Sean\\AppData\\Local\\Temp\\ipykernel_10960\\2842049158.py:1: SettingWithCopyWarning: \n",
      "A value is trying to be set on a copy of a slice from a DataFrame.\n",
      "Try using .loc[row_indexer,col_indexer] = value instead\n",
      "\n",
      "See the caveats in the documentation: https://pandas.pydata.org/pandas-docs/stable/user_guide/indexing.html#returning-a-view-versus-a-copy\n",
      "  df['tokenized'] = df['tokenized'].apply(rm_stop)\n",
      "C:\\Users\\Sean\\AppData\\Local\\Temp\\ipykernel_10960\\2842049158.py:2: SettingWithCopyWarning: \n",
      "A value is trying to be set on a copy of a slice from a DataFrame.\n",
      "Try using .loc[row_indexer,col_indexer] = value instead\n",
      "\n",
      "See the caveats in the documentation: https://pandas.pydata.org/pandas-docs/stable/user_guide/indexing.html#returning-a-view-versus-a-copy\n",
      "  df['text'] = df['tokenized'].apply(lambda x: ' '.join([word for word in x]))\n"
     ]
    }
   ],
   "source": [
    "df['tokenized'] = df['tokenized'].apply(rm_stop)\n",
    "df['text'] = df['tokenized'].apply(lambda x: ' '.join([word for word in x]))"
   ]
  },
  {
   "cell_type": "code",
   "execution_count": 8,
   "metadata": {},
   "outputs": [
    {
     "data": {
      "text/html": [
       "<div>\n",
       "<style scoped>\n",
       "    .dataframe tbody tr th:only-of-type {\n",
       "        vertical-align: middle;\n",
       "    }\n",
       "\n",
       "    .dataframe tbody tr th {\n",
       "        vertical-align: top;\n",
       "    }\n",
       "\n",
       "    .dataframe thead th {\n",
       "        text-align: right;\n",
       "    }\n",
       "</style>\n",
       "<table border=\"1\" class=\"dataframe\">\n",
       "  <thead>\n",
       "    <tr style=\"text-align: right;\">\n",
       "      <th></th>\n",
       "      <th>num_comments</th>\n",
       "      <th>title</th>\n",
       "      <th>tokenized</th>\n",
       "      <th>text</th>\n",
       "    </tr>\n",
       "  </thead>\n",
       "  <tbody>\n",
       "    <tr>\n",
       "      <th>0</th>\n",
       "      <td>4</td>\n",
       "      <td>what's the best thing to say to someone who's ...</td>\n",
       "      <td>[best, thing, say, someone, upset]</td>\n",
       "      <td>best thing say someone upset</td>\n",
       "    </tr>\n",
       "    <tr>\n",
       "      <th>1</th>\n",
       "      <td>8</td>\n",
       "      <td>where would someone be able to get their hands...</td>\n",
       "      <td>[would, someone, able, get, hands, coke]</td>\n",
       "      <td>would someone able get hands coke</td>\n",
       "    </tr>\n",
       "    <tr>\n",
       "      <th>2</th>\n",
       "      <td>4</td>\n",
       "      <td>what’s your ideal first date?</td>\n",
       "      <td>[ideal, first, date]</td>\n",
       "      <td>ideal first date</td>\n",
       "    </tr>\n",
       "    <tr>\n",
       "      <th>3</th>\n",
       "      <td>3</td>\n",
       "      <td>law enforcement agents of reddit, what do the ...</td>\n",
       "      <td>[law, enforcement, agents, reddit, shows, movi...</td>\n",
       "      <td>law enforcement agents reddit shows movies get...</td>\n",
       "    </tr>\n",
       "    <tr>\n",
       "      <th>4</th>\n",
       "      <td>3</td>\n",
       "      <td>what sounds innocent but also condescending?</td>\n",
       "      <td>[sounds, innocent, also, condescending]</td>\n",
       "      <td>sounds innocent also condescending</td>\n",
       "    </tr>\n",
       "    <tr>\n",
       "      <th>...</th>\n",
       "      <td>...</td>\n",
       "      <td>...</td>\n",
       "      <td>...</td>\n",
       "      <td>...</td>\n",
       "    </tr>\n",
       "    <tr>\n",
       "      <th>288816</th>\n",
       "      <td>8</td>\n",
       "      <td>those who decided not to get married, why?</td>\n",
       "      <td>[decided, get, married]</td>\n",
       "      <td>decided get married</td>\n",
       "    </tr>\n",
       "    <tr>\n",
       "      <th>288817</th>\n",
       "      <td>9</td>\n",
       "      <td>if one body part could be easily replaceable, ...</td>\n",
       "      <td>[one, body, part, could, easily, replaceable, ...</td>\n",
       "      <td>one body part could easily replaceable one wou...</td>\n",
       "    </tr>\n",
       "    <tr>\n",
       "      <th>288818</th>\n",
       "      <td>29</td>\n",
       "      <td>those who don’t have/like to use a bidet at ho...</td>\n",
       "      <td>[like, use, bidet, home]</td>\n",
       "      <td>like use bidet home</td>\n",
       "    </tr>\n",
       "    <tr>\n",
       "      <th>288819</th>\n",
       "      <td>12</td>\n",
       "      <td>how did you find out about / get on reddit?</td>\n",
       "      <td>[find, get, reddit]</td>\n",
       "      <td>find get reddit</td>\n",
       "    </tr>\n",
       "    <tr>\n",
       "      <th>288820</th>\n",
       "      <td>3</td>\n",
       "      <td>since they say the universe is always expandin...</td>\n",
       "      <td>[since, say, universe, always, expanding, thin...</td>\n",
       "      <td>since say universe always expanding think expa...</td>\n",
       "    </tr>\n",
       "  </tbody>\n",
       "</table>\n",
       "<p>288821 rows × 4 columns</p>\n",
       "</div>"
      ],
      "text/plain": [
       "        num_comments                                              title  \\\n",
       "0                  4  what's the best thing to say to someone who's ...   \n",
       "1                  8  where would someone be able to get their hands...   \n",
       "2                  4                      what’s your ideal first date?   \n",
       "3                  3  law enforcement agents of reddit, what do the ...   \n",
       "4                  3       what sounds innocent but also condescending?   \n",
       "...              ...                                                ...   \n",
       "288816             8         those who decided not to get married, why?   \n",
       "288817             9  if one body part could be easily replaceable, ...   \n",
       "288818            29  those who don’t have/like to use a bidet at ho...   \n",
       "288819            12        how did you find out about / get on reddit?   \n",
       "288820             3  since they say the universe is always expandin...   \n",
       "\n",
       "                                                tokenized  \\\n",
       "0                      [best, thing, say, someone, upset]   \n",
       "1                [would, someone, able, get, hands, coke]   \n",
       "2                                    [ideal, first, date]   \n",
       "3       [law, enforcement, agents, reddit, shows, movi...   \n",
       "4                 [sounds, innocent, also, condescending]   \n",
       "...                                                   ...   \n",
       "288816                            [decided, get, married]   \n",
       "288817  [one, body, part, could, easily, replaceable, ...   \n",
       "288818                           [like, use, bidet, home]   \n",
       "288819                                [find, get, reddit]   \n",
       "288820  [since, say, universe, always, expanding, thin...   \n",
       "\n",
       "                                                     text  \n",
       "0                            best thing say someone upset  \n",
       "1                       would someone able get hands coke  \n",
       "2                                        ideal first date  \n",
       "3       law enforcement agents reddit shows movies get...  \n",
       "4                      sounds innocent also condescending  \n",
       "...                                                   ...  \n",
       "288816                                decided get married  \n",
       "288817  one body part could easily replaceable one wou...  \n",
       "288818                                like use bidet home  \n",
       "288819                                    find get reddit  \n",
       "288820  since say universe always expanding think expa...  \n",
       "\n",
       "[288821 rows x 4 columns]"
      ]
     },
     "execution_count": 8,
     "metadata": {},
     "output_type": "execute_result"
    }
   ],
   "source": [
    "df"
   ]
  },
  {
   "cell_type": "code",
   "execution_count": 17,
   "metadata": {},
   "outputs": [],
   "source": [
    "vectorizer = CountVectorizer(max_features=10000)\n",
    "X = vectorizer.fit_transform(df['text'])\n",
    "bow = X.toarray()\n",
    "vocab = vectorizer.get_feature_names()"
   ]
  },
  {
   "cell_type": "code",
   "execution_count": 18,
   "metadata": {},
   "outputs": [
    {
     "data": {
      "text/plain": [
       "array([[0, 0, 0, ..., 0, 0, 0],\n",
       "       [0, 0, 0, ..., 0, 0, 0],\n",
       "       [0, 0, 0, ..., 0, 0, 0],\n",
       "       ...,\n",
       "       [0, 0, 0, ..., 0, 0, 0],\n",
       "       [0, 0, 0, ..., 0, 0, 0],\n",
       "       [0, 0, 0, ..., 0, 0, 0]], dtype=int64)"
      ]
     },
     "execution_count": 18,
     "metadata": {},
     "output_type": "execute_result"
    }
   ],
   "source": []
  }
 ],
 "metadata": {
  "interpreter": {
   "hash": "89a8dbf1c7ab353b6be4a3bb2e62a5f787febc420adf5378bc5c4c9cb5d108ef"
  },
  "kernelspec": {
   "display_name": "Python 3.10.2 64-bit",
   "language": "python",
   "name": "python3"
  },
  "language_info": {
   "codemirror_mode": {
    "name": "ipython",
    "version": 3
   },
   "file_extension": ".py",
   "mimetype": "text/x-python",
   "name": "python",
   "nbconvert_exporter": "python",
   "pygments_lexer": "ipython3",
   "version": "3.10.2"
  },
  "orig_nbformat": 4
 },
 "nbformat": 4,
 "nbformat_minor": 2
}
