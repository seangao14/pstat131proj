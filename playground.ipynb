{
 "cells": [
  {
   "cell_type": "markdown",
   "metadata": {},
   "source": [
    "# PSTAT131 Final Project\n",
    "Sean Gao, Aya Zeplovitch\n",
    "\n",
    "## Introduction \n",
    "\n",
    "This project aims to predict the number of comments given the question of any [r/Askreddit](https://www.reddit.com/r/AskReddit/) question. r/Askreddit is a forum where redditors (Reddit users) post questions (about anything really). We try to find the answer to the following question: \"what kind of r/Askreddit questions garner the most interactions?\" This is an interesting question because as someone that regularly browses Reddit, there definitely exists a pattern between the posts that become popular.\n",
    "\n",
    "***\n",
    "\n",
    "## NLP\n",
    "\n",
    "As our data is going to be text data, we will have to use NLP techniques to transform text into machine readable dataframes. The most common techniques used are word-embedding, and bag-of-words. Here's approximately how they work:\n",
    "\n",
    "Suppose we have the following sentence: *\"I like my big pancakes\"*\n",
    "\n",
    "We can make our list of vocabulary from this sentence: **'I', 'like', 'my', big', 'pancakes'**. Both techniques uses the one-hot (or multi-hot in the case of bag-of-words) encoding (i.e., the word 'like' would be represented by a vector **[0, 1, 0, 0, 0]**). \n",
    "\n",
    "###  Word-embedding\n",
    "\n",
    "In the case of word-embedding, a $m \\times n$ matrix will be created, where $m$ is the number of words in the sentence, and $n$ is the number of words in our total vocabulary. As such, our sentence will be represented as such:\n",
    "\n",
    "||I|like|my|big|pancakes|\n",
    "|---|---|---|---|---|---|\n",
    "|1|1|0|0|0|0|\n",
    "|2|0|1|0|0|0|\n",
    "|3|0|0|1|0|0|\n",
    "|4|0|0|0|1|0|\n",
    "|5|0|0|0|0|1|\n",
    "\n",
    "### Bag-of-words\n",
    "\n",
    "In the case of bag-of-words, a single array of length $m$ will be created. The value at each index will be the number of occurrences of the word that index represents. With the same vocabulary, *'I like pancakes.'* would be represented as such:\n",
    "\n",
    "|I|like|my|big|pancakes|\n",
    "|---|---|---|---|---|\n",
    "|1|1|0|0|1|\n",
    "\n",
    "### Word-embedding vs bag-of-words\n",
    "\n",
    "Word-embedding holds more information than bag-of-words. For one, one sentence is represented as an $m \\times n$ matrix with word-embedding, whereas it is represented as a $m$ size array with bag-of-words. Most importantly, word-embedding is able to represent the order of the words in the sentence. For example, take the phrases \"yeah no\" and \"no yeah.\" To a fluent English speaker, they have opposite meanings: \"yeah no\" means \"no,\" and \"no yeah\" means \"yes.\" However, they would have the same representation with the bag-of-words technique, whereas word-embedding would be able to properly represent the difference between these phrases. \n",
    "\n",
    "However, word-embedding is much more computationally expensive as each sentence would be $n$ times bigger. It also requires a different type of algorithm to model as each sentence would have a different $n$, making the number of predictors variable. As such, common machine learning methods like linear regression, ensemble tree methods, and many others would not work with the data. This is one reason we have decided to go with the bag-of-words approach. Another reason is that due to the nature of what we're trying to predict, the order of the words in the question may not matter as much as which words actually appear in the question. \n",
    "\n",
    "\n",
    "***\n",
    "\n",
    "## Importing packages\n",
    "\n",
    "All the imports will be grouped at the top, make sure they are all installed and up to date if you're trying to run this notebook. This was bulit on Python 3.10~. "
   ]
  },
  {
   "cell_type": "code",
   "execution_count": 32,
   "metadata": {},
   "outputs": [],
   "source": [
    "import pandas as pd\n",
    "import numpy as np\n",
    "import matplotlib.pyplot as plt\n",
    "import nltk\n",
    "import pickle\n",
    "import os\n",
    "\n",
    "from sklearn.feature_extraction.text import CountVectorizer\n",
    "from sklearn.preprocessing import StandardScaler\n",
    "from sklearn.metrics import mean_squared_error\n",
    "from sklearn.model_selection import cross_val_score\n",
    "from sklearn.decomposition import PCA\n",
    "from tqdm import tqdm"
   ]
  },
  {
   "cell_type": "markdown",
   "metadata": {},
   "source": [
    "*** \n",
    "\n",
    "## Notebook parameters\n",
    "\n",
    "Some parameters here to help run the notebook faster. Our dataset is huge so it helps to only use portions of it for the sake of memory/computing power\n",
    "\n",
    "We were actually unable to use the entire dataset (nearly 1 million rows) as we lacked the memory. The number of words in the vocabulary was very important as well both for predictability and computational power. The N_VOCAB value we chose was mainly as a result of limited computational power and memory.\n",
    "\n",
    "**PCT_DATA**: the percentage of the entire dataset used for the rest of the notebook.  \n",
    "**N_VOCAB**: the number of words in the vocabulary "
   ]
  },
  {
   "cell_type": "code",
   "execution_count": 33,
   "metadata": {},
   "outputs": [],
   "source": [
    "PCT_DATA = .01\n",
    "N_VOCAB = 100"
   ]
  },
  {
   "cell_type": "markdown",
   "metadata": {},
   "source": [
    "*** \n",
    "\n",
    "## Helper functions\n",
    "\n",
    "Each function will have Docstrings included to describe its purpose and usage"
   ]
  },
  {
   "cell_type": "code",
   "execution_count": 34,
   "metadata": {},
   "outputs": [],
   "source": [
    "def rm_stop(words):\n",
    "    \"\"\"\n",
    "    Removes the stopwords from a list of words\n",
    "    \"\"\"\n",
    "\n",
    "    new_words = []\n",
    "    stop_words = nltk.corpus.stopwords.words('english')\n",
    "\n",
    "    for w in words:\n",
    "        if w not in stop_words:\n",
    "            new_words.append(w)\n",
    "    return new_words\n",
    "\n",
    "def build_data(pct_data=PCT_DATA):\n",
    "    \"\"\"\n",
    "    Uses data/finaldataset.csv to create a text dataset.\n",
    "    Result dataset will contain a string with stop words removed.\n",
    "    \"\"\"\n",
    "\n",
    "    raw_df = pd.read_csv('data/finaldataset.csv')\n",
    "    raw_df = raw_df.iloc[:round(raw_df.shape[0] * pct_data)]\n",
    "\n",
    "    # num_comments is self explanatory, title is the question (our predictor)\n",
    "    df = raw_df[['num_comments', 'title']]\n",
    "    del raw_df\n",
    "\n",
    "    # setting all strings to lowercase and tokenizing them\n",
    "    df.loc[:,'title'] = df['title'].str.lower()\n",
    "    tokenizer = nltk.RegexpTokenizer(r'\\b[(a-z)]+\\b')\n",
    "    df.loc[:,'tokenized'] = df['title'].apply(tokenizer.tokenize)\n",
    "\n",
    "    # removing stop words and rejoining the words for CountVectorizer later\n",
    "    df['tokenized'] = df['tokenized'].apply(rm_stop)\n",
    "    df['text'] = df['tokenized'].apply(lambda x: ' '.join([word for word in x]))\n",
    "\n",
    "    return df\n",
    "\n",
    "def fit_n_vocab(df, n_vocab=N_VOCAB):\n",
    "    \"\"\"\n",
    "    Fits the bag-of-words with N_VOCAB as the number of words in the vocabulary. \n",
    "\n",
    "    Returns:\n",
    "    --------\n",
    "        X : np.array()\n",
    "            Number of observations x N_VOCAB bag-of-words matrix\n",
    "        Y : np.array()\n",
    "            Array containing the number of comments\n",
    "        vocab : np.array()\n",
    "            Array of strings of the vocab\n",
    "        vectorizer: CountVectorizer()\n",
    "            CountVectorizer object used to transform new data\n",
    "    \"\"\"\n",
    "\n",
    "    vectorizer = CountVectorizer(max_features=n_vocab)\n",
    "    vecfit = vectorizer.fit_transform(df['text'])\n",
    "    X = vecfit.toarray()\n",
    "\n",
    "    vocab = vectorizer.get_feature_names()\n",
    "    Y = df['num_comments'].to_numpy()\n",
    "\n",
    "    return X, Y, vocab, vectorizer \n",
    "\n",
    "def pct_no_words(X):\n",
    "    \"\"\"Calculates the percent of observations with 0 words in the bag-of-words\"\"\"\n",
    "    return sum(np.sum(X, axis=1) > 0)/X.shape[0]\n",
    "\n",
    "def pred_from_str(q, m, vec):\n",
    "    \"\"\"Uses any model m to predict the number of comments of string q\"\"\"\n",
    "    tokenizer = nltk.RegexpTokenizer(r'\\b[(a-z)]+\\b')\n",
    "\n",
    "    q = tokenizer.tokenize(q)\n",
    "    q = rm_stop(q)\n",
    "\n",
    "    j = lambda x: ' '.join([word for word in x])\n",
    "    q = j(q)\n",
    "    pred_X = vec.transform(pd.Series(q)).toarray()\n",
    "\n",
    "    pred = m.predict(pred_X)\n",
    "\n",
    "    return pred"
   ]
  },
  {
   "cell_type": "markdown",
   "metadata": {},
   "source": [
    "***\n",
    "\n",
    "## Our data\n",
    "\n",
    "Our data is gathered from the third party Reddit API [pushshift](https://pushshift.io/). The code for our data gathering can be found in our Github repo [here](https://github.com/seangao14/pstat131proj). Since the data collection and processing could take hours, we will include the link to the dataset [here](https://drive.google.com/drive/folders/1cTAwppo6BCP_D0SbrmyKpjrwZvwvVm2H?usp=sharing). The file we are using is *finaldataset.csv*.  \n",
    "The API did not yield the correct number of upvotes, which is why we're using the number of comments as our target variable. The number of comments or upvotes both show the popularity of the post, which is why we deemed the number of comments to be a sufficient replacement for the number of upvotes.\n",
    "\n",
    "\n",
    "If you're trying to run this notebook, be sure to have your *finaldataset.csv* in a folder named \"data\", such that the file path from this file would be ***data/finaldataset.csv***."
   ]
  },
  {
   "cell_type": "code",
   "execution_count": 35,
   "metadata": {},
   "outputs": [
    {
     "name": "stderr",
     "output_type": "stream",
     "text": [
      "C:\\Users\\Sean\\AppData\\Local\\Temp\\ipykernel_18328\\1935101033.py:20: DtypeWarning: Columns (7,8,61,62,66,67,70,71,72,73,74,75) have mixed types. Specify dtype option on import or set low_memory=False.\n",
      "  raw_df = pd.read_csv('data/finaldataset.csv')\n",
      "C:\\Users\\Sean\\AppData\\Local\\Programs\\Python\\Python310\\lib\\site-packages\\sklearn\\utils\\deprecation.py:87: FutureWarning: Function get_feature_names is deprecated; get_feature_names is deprecated in 1.0 and will be removed in 1.2. Please use get_feature_names_out instead.\n",
      "  warnings.warn(msg, category=FutureWarning)\n"
     ]
    }
   ],
   "source": [
    "df = build_data()\n",
    "X, Y, vocab, vectorizer = fit_n_vocab(df=df, n_vocab=N_VOCAB)\n",
    "del df"
   ]
  },
  {
   "cell_type": "markdown",
   "metadata": {},
   "source": [
    "***\n",
    "\n",
    "## EDA\n",
    "\n",
    "There are two main things we want to accomplish with EDA: the most practical N_VOCAB value and the best transformation for our target variable.  \n",
    "\n",
    "First we construct a graph plotting the number of vocabulary against the percentage of observations with at least 1 word in the bag-of-words (the horizontal sum of each observation is at least 1). This is important because having no word in the bag-of-words essentially means the data has no information regarding that observation. As such, we want to minimize the number of observations which the model learns nothing about. With our limited computational power, we are unable to have a large amount of vocabularies in our bag-of-words.  \n",
    "\n",
    "If you're running this from a cloned repo from our [Github](https://github.com/seangao14/pstat131proj), you won't need to change anything to run this next code block, as *pct_df.csv* is included in the repo. Otherwise, set **run** to **True** if it is your first time running this notebook, **False** otherwise."
   ]
  },
  {
   "cell_type": "code",
   "execution_count": 5,
   "metadata": {},
   "outputs": [
    {
     "data": {
      "image/png": "[encoded data removed]",
      "text/plain": [
       "<Figure size 432x288 with 1 Axes>"
      ]
     },
     "metadata": {
      "needs_background": "light"
     },
     "output_type": "display_data"
    }
   ],
   "source": [
    "# set run = True if first time running, False otherwise as it takes a while (upwards of an hour on some machines) to run\n",
    "run = False\n",
    "\n",
    "if run:\n",
    "    pct_vals = []\n",
    "    df = build_data()\n",
    "\n",
    "    for i in tqdm(np.arange(100, 5001, 50)):\n",
    "        X = fit_n_vocab(df=df, n_vocab=i)[0]\n",
    "        pct = pct_no_words(X)\n",
    "        pct_vals.append([i, pct])\n",
    "    pct_df = pd.DataFrame(pct_vals, columns=['n_vocab', 'pct_words'])\n",
    "    pct_df.to_csv('pct_df.csv')\n",
    "else:\n",
    "    pct_df = pd.read_csv('pct_df.csv')\n",
    "\n",
    "plt.plot(pct_df['n_vocab'], pct_df['pct_words'])\n",
    "plt.xlabel('Number of words in the bag of words')\n",
    "plt.ylabel('Percent of obs. with 0 words from the bag of words')\n",
    "\n",
    "plt.show()"
   ]
  },
  {
   "cell_type": "markdown",
   "metadata": {},
   "source": [
    "We can see that there is a diminishing return effect once N_VOCAB reaches about the 1000 mark, so we will use a value within that range. We realize that this is not a perfect solution as about 2% of the observations will have no information about them. However, with our limited compute we believe this is the best compromise.  \n",
    "\n",
    "Next we will plot a histogram of our target variable, to see if any transformations should be made. We expect that the data will be positively skewed, as most of the posts on r/Askreddit garner little attention, and a few posts get most of the comments."
   ]
  },
  {
   "cell_type": "code",
   "execution_count": 6,
   "metadata": {},
   "outputs": [
    {
     "data": {
      "image/png": "[encoded data removed]",
      "text/plain": [
       "<Figure size 432x288 with 1 Axes>"
      ]
     },
     "metadata": {
      "needs_background": "light"
     },
     "output_type": "display_data"
    }
   ],
   "source": [
    "plt.hist(Y)\n",
    "plt.show()"
   ]
  },
  {
   "cell_type": "markdown",
   "metadata": {},
   "source": [
    "This plot basically meets our expectation of an extreme positive skewness. Let's bound the x-values and increase the number of bins."
   ]
  },
  {
   "cell_type": "code",
   "execution_count": 7,
   "metadata": {},
   "outputs": [
    {
     "data": {
      "image/png": "[encoded data removed]",
      "text/plain": [
       "<Figure size 432x288 with 2 Axes>"
      ]
     },
     "metadata": {
      "needs_background": "light"
     },
     "output_type": "display_data"
    }
   ],
   "source": [
    "fig, ax = plt.subplots(1, 2)\n",
    "ax[0].hist(Y, bins=100, range=(0, 1000))\n",
    "ax[1].hist(Y, bins=100, range=(0, 200))\n",
    "plt.show()"
   ]
  },
  {
   "cell_type": "markdown",
   "metadata": {},
   "source": [
    "The skewness exists even when we set the upper bound to 200. A good transformation for skewed data is a log transform, so we will do that."
   ]
  },
  {
   "cell_type": "code",
   "execution_count": 8,
   "metadata": {},
   "outputs": [],
   "source": [
    "# Y transformation\n",
    "log_Y = np.log(Y, dtype=float)"
   ]
  },
  {
   "cell_type": "code",
   "execution_count": 10,
   "metadata": {},
   "outputs": [
    {
     "data": {
      "image/png": "[encoded data removed]",
      "text/plain": [
       "<Figure size 432x288 with 1 Axes>"
      ]
     },
     "metadata": {
      "needs_background": "light"
     },
     "output_type": "display_data"
    }
   ],
   "source": [
    "plt.hist(log_Y, bins=50)\n",
    "plt.show()"
   ]
  },
  {
   "cell_type": "markdown",
   "metadata": {},
   "source": [
    "We can see that the data is now much more normally distributed, although there still exists a positive skew. For the most part, this transformed Y is normal enough for the assumption of normality in models like linear regression.\n",
    "\n",
    "***\n",
    "\n",
    "## Train, Validation, Test Data Split"
   ]
  },
  {
   "cell_type": "code",
   "execution_count": 36,
   "metadata": {},
   "outputs": [
    {
     "name": "stdout",
     "output_type": "stream",
     "text": [
      "No. of training examples: 7982\n",
      "No. of validation examples: 998\n",
      "No. of testing examples: 998\n"
     ]
    }
   ],
   "source": [
    "df = pd.DataFrame(data = X)\n",
    "df['Y'] = Y\n",
    "\n",
    "# splitting the data into train and the remaining data\n",
    "X_train = df.sample(frac = 0.8, random_state = 25)  # random_state serves as a seed\n",
    "X_remaining = df.drop(X_train.index)\n",
    "\n",
    "Y_train = X_train.pop('Y')\n",
    "\n",
    "#splitting the remaining data into validation and test\n",
    "X_val = X_remaining.sample(frac = 0.5, random_state = 25)\n",
    "X_test = X_remaining.drop(X_val.index)\n",
    "\n",
    "Y_val = X_val.pop('Y')\n",
    "Y_test = X_test.pop('Y')\n",
    "\n",
    "scaler = StandardScaler()\n",
    "scaler.fit(X_train)\n",
    "\n",
    "print(f\"No. of training examples: {X_train.shape[0]}\")\n",
    "print(f\"No. of validation examples: {X_val.shape[0]}\")\n",
    "print(f\"No. of testing examples: {X_test.shape[0]}\")\n",
    "\n",
    "del df, X_remaining"
   ]
  },
  {
   "cell_type": "code",
   "execution_count": 7,
   "metadata": {},
   "outputs": [],
   "source": [
    "from scipy import stats\n",
    "\n",
    "# code from: https://stackoverflow.com/questions/27928275/find-p-value-significance-in-scikit-learn-linearregression\n",
    "def make_lr_dict(m, y, p):\n",
    "    params = np.append(linReg.intercept_,linReg.coef_)\n",
    "    predictions = p\n",
    "\n",
    "    newX = pd.DataFrame({\"Constant\":np.ones(len(X))}).join(pd.DataFrame(X))\n",
    "    MSE = (sum((y-predictions)**2))/(len(newX)-len(newX.columns))\n",
    "\n",
    "    # Note if you don't want to use a DataFrame replace the two lines above with\n",
    "    # newX = np.append(np.ones((len(X),1)), X, axis=1)\n",
    "    # MSE = (sum((y-predictions)**2))/(len(newX)-len(newX[0]))\n",
    "\n",
    "    var_b = MSE*(np.linalg.inv(np.dot(newX.T,newX)).diagonal())\n",
    "    sd_b = np.sqrt(var_b)\n",
    "    ts_b = params/ sd_b\n",
    "\n",
    "    p_values =[2*(1-stats.t.cdf(np.abs(i),(len(newX)-len(newX[0])))) for i in ts_b]\n",
    "\n",
    "    sd_b = np.round(sd_b,3)\n",
    "    ts_b = np.round(ts_b,3)\n",
    "    #p_values = np.round(p_values,3)\n",
    "    params = np.round(params,4)\n",
    "\n",
    "    myDF3 = pd.DataFrame()\n",
    "    myDF3[\"Coefficients\"],myDF3[\"Standard Errors\"],myDF3[\"t values\"],myDF3[\"Probabilities\"] = [params,sd_b,ts_b,p_values]\n",
    "    return myDF3.drop([0])"
   ]
  },
  {
   "cell_type": "code",
   "execution_count": 8,
   "metadata": {},
   "outputs": [
    {
     "name": "stdout",
     "output_type": "stream",
     "text": [
      "265731.4975700375\n",
      "268513.54968645587\n"
     ]
    }
   ],
   "source": [
    "from sklearn.linear_model import LinearRegression\n",
    "\n",
    "linReg = LinearRegression().fit(X_train, np.log(Y_train))\n",
    "lin_ypred = linReg.predict(X_train)\n",
    "print(mean_squared_error(Y_train, np.exp(lin_ypred)))\n",
    "\n",
    "scorelin = cross_val_score(LinearRegression(), X_train, Y_train, cv = 5, \n",
    "                           scoring = 'neg_mean_squared_error')\n",
    "print(-1*scorelin.mean())"
   ]
  },
  {
   "cell_type": "code",
   "execution_count": 55,
   "metadata": {},
   "outputs": [
    {
     "name": "stdout",
     "output_type": "stream",
     "text": [
      "525517.5680249324\n"
     ]
    }
   ],
   "source": [
    "lin_ypredval = linReg.predict(X_val)\n",
    "print(mean_squared_error(Y_val, np.exp(lin_ypredval)))"
   ]
  },
  {
   "cell_type": "code",
   "execution_count": 56,
   "metadata": {},
   "outputs": [
    {
     "data": {
      "text/html": [
       "<div>\n",
       "<style scoped>\n",
       "    .dataframe tbody tr th:only-of-type {\n",
       "        vertical-align: middle;\n",
       "    }\n",
       "\n",
       "    .dataframe tbody tr th {\n",
       "        vertical-align: top;\n",
       "    }\n",
       "\n",
       "    .dataframe thead th {\n",
       "        text-align: right;\n",
       "    }\n",
       "</style>\n",
       "<table border=\"1\" class=\"dataframe\">\n",
       "  <thead>\n",
       "    <tr style=\"text-align: right;\">\n",
       "      <th></th>\n",
       "      <th>Coefficients</th>\n",
       "      <th>Standard Errors</th>\n",
       "      <th>t values</th>\n",
       "      <th>Probabilities</th>\n",
       "      <th>word</th>\n",
       "    </tr>\n",
       "  </thead>\n",
       "  <tbody>\n",
       "    <tr>\n",
       "      <th>723</th>\n",
       "      <td>0.7912</td>\n",
       "      <td>43.864</td>\n",
       "      <td>0.018</td>\n",
       "      <td>NaN</td>\n",
       "      <td>rittenhouse</td>\n",
       "    </tr>\n",
       "    <tr>\n",
       "      <th>927</th>\n",
       "      <td>0.7800</td>\n",
       "      <td>29.656</td>\n",
       "      <td>0.026</td>\n",
       "      <td>NaN</td>\n",
       "      <td>username</td>\n",
       "    </tr>\n",
       "    <tr>\n",
       "      <th>384</th>\n",
       "      <td>0.4791</td>\n",
       "      <td>45.630</td>\n",
       "      <td>0.010</td>\n",
       "      <td>NaN</td>\n",
       "      <td>gun</td>\n",
       "    </tr>\n",
       "    <tr>\n",
       "      <th>472</th>\n",
       "      <td>0.4596</td>\n",
       "      <td>44.791</td>\n",
       "      <td>0.010</td>\n",
       "      <td>NaN</td>\n",
       "      <td>kyle</td>\n",
       "    </tr>\n",
       "    <tr>\n",
       "      <th>626</th>\n",
       "      <td>0.4588</td>\n",
       "      <td>33.283</td>\n",
       "      <td>0.014</td>\n",
       "      <td>NaN</td>\n",
       "      <td>penis</td>\n",
       "    </tr>\n",
       "    <tr>\n",
       "      <th>...</th>\n",
       "      <td>...</td>\n",
       "      <td>...</td>\n",
       "      <td>...</td>\n",
       "      <td>...</td>\n",
       "      <td>...</td>\n",
       "    </tr>\n",
       "    <tr>\n",
       "      <th>59</th>\n",
       "      <td>-0.4254</td>\n",
       "      <td>46.543</td>\n",
       "      <td>-0.009</td>\n",
       "      <td>NaN</td>\n",
       "      <td>artists</td>\n",
       "    </tr>\n",
       "    <tr>\n",
       "      <th>826</th>\n",
       "      <td>-0.4302</td>\n",
       "      <td>12.979</td>\n",
       "      <td>-0.033</td>\n",
       "      <td>NaN</td>\n",
       "      <td>story</td>\n",
       "    </tr>\n",
       "    <tr>\n",
       "      <th>825</th>\n",
       "      <td>-0.4411</td>\n",
       "      <td>31.713</td>\n",
       "      <td>-0.014</td>\n",
       "      <td>NaN</td>\n",
       "      <td>stories</td>\n",
       "    </tr>\n",
       "    <tr>\n",
       "      <th>541</th>\n",
       "      <td>-0.4899</td>\n",
       "      <td>44.485</td>\n",
       "      <td>-0.011</td>\n",
       "      <td>NaN</td>\n",
       "      <td>meme</td>\n",
       "    </tr>\n",
       "    <tr>\n",
       "      <th>151</th>\n",
       "      <td>-0.5814</td>\n",
       "      <td>37.013</td>\n",
       "      <td>-0.016</td>\n",
       "      <td>NaN</td>\n",
       "      <td>comments</td>\n",
       "    </tr>\n",
       "  </tbody>\n",
       "</table>\n",
       "<p>1000 rows × 5 columns</p>\n",
       "</div>"
      ],
      "text/plain": [
       "     Coefficients  Standard Errors  t values  Probabilities         word\n",
       "723        0.7912           43.864     0.018            NaN  rittenhouse\n",
       "927        0.7800           29.656     0.026            NaN     username\n",
       "384        0.4791           45.630     0.010            NaN          gun\n",
       "472        0.4596           44.791     0.010            NaN         kyle\n",
       "626        0.4588           33.283     0.014            NaN        penis\n",
       "..            ...              ...       ...            ...          ...\n",
       "59        -0.4254           46.543    -0.009            NaN      artists\n",
       "826       -0.4302           12.979    -0.033            NaN        story\n",
       "825       -0.4411           31.713    -0.014            NaN      stories\n",
       "541       -0.4899           44.485    -0.011            NaN         meme\n",
       "151       -0.5814           37.013    -0.016            NaN     comments\n",
       "\n",
       "[1000 rows x 5 columns]"
      ]
     },
     "execution_count": 56,
     "metadata": {},
     "output_type": "execute_result"
    }
   ],
   "source": [
    "lr_df = make_lr_dict(linReg, Y_train, np.exp(lin_ypred))\n",
    "lr_df['word'] = vocab\n",
    "lr_df.sort_values(by=['Coefficients'], ascending=False)"
   ]
  },
  {
   "cell_type": "code",
   "execution_count": 37,
   "metadata": {},
   "outputs": [
    {
     "name": "stdout",
     "output_type": "stream",
     "text": [
      "# of components = 10  MSE = 225599.32737008957\n",
      "# of components = 20  MSE = 225602.79098360683\n",
      "# of components = 30  MSE = 225581.3775900769\n",
      "# of components = 40  MSE = 225568.48904594727\n",
      "# of components = 50  MSE = 225570.3135478345\n",
      "# of components = 60  MSE = 225571.2013347479\n",
      "# of components = 70  MSE = 225566.71868987082\n",
      "# of components = 80  MSE = 225558.77432650304\n",
      "# of components = 90  MSE = 225552.97934329437\n",
      "# of components = 100  MSE = 225548.1370169992\n"
     ]
    }
   ],
   "source": [
    "scaler = StandardScaler()\n",
    "\n",
    "scaler.fit(X_train)\n",
    "\n",
    "for i in range(1, 11):\n",
    "    n_components = int(N_VOCAB * 0.1*i)\n",
    "    pca = PCA(n_components = n_components)\n",
    "    # prepare transform on dataset\n",
    "    pca.fit(scaler.transform(X_train))\n",
    "    # apply transform to dataset\n",
    "    transformed = pca.transform(X_train)\n",
    "    \n",
    "    linReg_pca = LinearRegression().fit(transformed, np.log(Y_train))\n",
    "    lin_ypred_pca = linReg_pca.predict(transformed)\n",
    "    mse = mean_squared_error(Y_train, np.exp(lin_ypred_pca))\n",
    "    print(f\"# of components = {n_components}  MSE = {mse}\")"
   ]
  },
  {
   "cell_type": "code",
   "execution_count": 16,
   "metadata": {},
   "outputs": [
    {
     "data": {
      "text/plain": [
       "0.0"
      ]
     },
     "execution_count": 16,
     "metadata": {},
     "output_type": "execute_result"
    }
   ],
   "source": [
    "from sklearn.linear_model import Lasso\n",
    "\n",
    "lassoReg = Lasso().fit(X_train, Y_train)\n",
    "lassoReg.score(X_train, Y_train)"
   ]
  },
  {
   "cell_type": "code",
   "execution_count": 56,
   "metadata": {},
   "outputs": [
    {
     "name": "stdout",
     "output_type": "stream",
     "text": [
      "0.6763387097664976\n",
      "0.6939658846812932\n"
     ]
    }
   ],
   "source": [
    "from sklearn.linear_model import Ridge\n",
    "\n",
    "ridgeReg = Ridge().fit(X_train, Y_train)\n",
    "ridge_ypred = ridgeReg.predict(X_train)\n",
    "print(mean_squared_error(Y_train, ridge_ypred))\n",
    "\n",
    "scoreridge = cross_val_score(Ridge(), X_train, Y_train, cv = 5, \n",
    "                           scoring = 'neg_mean_squared_error')\n",
    "print(-1*scoreridge.mean())"
   ]
  },
  {
   "cell_type": "code",
   "execution_count": 43,
   "metadata": {},
   "outputs": [
    {
     "name": "stdout",
     "output_type": "stream",
     "text": [
      "0.4232551898203105\n",
      "0.9373989289273446\n"
     ]
    }
   ],
   "source": [
    "from sklearn.neural_network import MLPRegressor\n",
    "\n",
    "mlpReg = MLPRegressor(max_iter = 500, random_state = 1).fit(X_train, Y_train)\n",
    "#print(mlpReg.score(X_train, Y_train))\n",
    "\n",
    "ypred = mlpReg.predict(X_train)\n",
    "print(mean_squared_error(Y_train, ypred))\n",
    "\n",
    "scoreMLP = cross_val_score(MLPRegressor(max_iter = 500, random_state = 1), X_train, Y_train, cv = 5, \n",
    "                           scoring = 'neg_mean_squared_error')\n",
    "print(-1*scoreMLP.mean())\n",
    "\n"
   ]
  },
  {
   "cell_type": "code",
   "execution_count": 52,
   "metadata": {},
   "outputs": [
    {
     "name": "stdout",
     "output_type": "stream",
     "text": [
      "0.7199426985446578\n",
      "0.8282334772548527\n"
     ]
    }
   ],
   "source": [
    "from sklearn.neighbors import KNeighborsRegressor\n",
    "\n",
    "kReg = KNeighborsRegressor().fit(X_train, Y_train)\n",
    "k_ypred = kReg.predict(X_train)\n",
    "print(mean_squared_error(Y_train, k_ypred))\n",
    "\n",
    "scoreK = cross_val_score(KNeighborsRegressor(), X_train, Y_train, cv = 5, \n",
    "                           scoring = 'neg_mean_squared_error')\n",
    "print(-1*scoreK.mean())\n",
    "\n"
   ]
  },
  {
   "cell_type": "code",
   "execution_count": 49,
   "metadata": {},
   "outputs": [],
   "source": [
    "# https://www.statology.org/principal-components-regression-in-python/\n",
    "from sklearn.preprocessing import scale\n",
    "from sklearn.model_selection import RepeatedKFold\n",
    "from sklearn.decomposition import PCA\n",
    "from sklearn.metrics import mean_squared_error\n",
    "from sklearn.model_selection import cross_val_score\n",
    "\n",
    "def plot_pca(model, X_train, Y_train):\n",
    "    #scale predictor variables\n",
    "    pca = PCA()\n",
    "    X_reduced = pca.fit_transform(scaler.transform(X_train))\n",
    "\n",
    "    #define cross validation method\n",
    "    cv = RepeatedKFold(n_splits=10, n_repeats=3, random_state=1)\n",
    "\n",
    "    mse = []\n",
    "\n",
    "    # Calculate MSE with only the intercept\n",
    "    score = -1 * cross_val_score(model,\n",
    "               np.ones((len(X_reduced),1)), Y_train, cv=cv,\n",
    "               scoring='neg_mean_squared_error').mean()    \n",
    "    mse.append(score)\n",
    "\n",
    "    # Calculate MSE using cross-validation, adding one component at a time\n",
    "    for i in tqdm(np.arange(1, N_VOCAB+1)):\n",
    "        score = -1 * cross_val_score(model,\n",
    "               X_reduced[:,:i], Y_train, cv=cv, scoring='neg_mean_squared_error').mean()\n",
    "        mse.append(score)\n",
    "     \n",
    "    # Plot cross-validation results    \n",
    "    plt.plot(mse)\n",
    "    plt.xlabel('Number of Principal Components')\n",
    "    plt.ylabel('MSE')\n",
    "    plt.title((str(model) + ' PCA'))\n",
    "    plt.show()"
   ]
  },
  {
   "cell_type": "code",
   "execution_count": 50,
   "metadata": {},
   "outputs": [
    {
     "name": "stderr",
     "output_type": "stream",
     "text": [
      "100%|██████████| 100/100 [00:58<00:00,  1.71it/s]\n"
     ]
    },
    {
     "data": {
      "image/png": "[encoded data removed]",
      "text/plain": [
       "<Figure size 432x288 with 1 Axes>"
      ]
     },
     "metadata": {
      "needs_background": "light"
     },
     "output_type": "display_data"
    }
   ],
   "source": [
    "from sklearn.linear_model import LinearRegression\n",
    "\n",
    "plot_pca(LinearRegression(), X_train, np.log(Y_train))"
   ]
  },
  {
   "cell_type": "code",
   "execution_count": null,
   "metadata": {},
   "outputs": [],
   "source": [
    "from sklearn.neighbors import KNeighborsRegressor\n",
    "\n",
    "plot_pca(KNeighborsRegressor())"
   ]
  },
  {
   "cell_type": "code",
   "execution_count": null,
   "metadata": {},
   "outputs": [],
   "source": [
    "from xgboost import XGBRegressor\n",
    "\n",
    "plot_pca(XGBRegressor())"
   ]
  },
  {
   "cell_type": "code",
   "execution_count": 51,
   "metadata": {},
   "outputs": [
    {
     "name": "stderr",
     "output_type": "stream",
     "text": [
      "100%|██████████| 100/100 [00:32<00:00,  3.10it/s]\n"
     ]
    },
    {
     "data": {
      "image/png": "[encoded data removed]",
      "text/plain": [
       "<Figure size 432x288 with 1 Axes>"
      ]
     },
     "metadata": {
      "needs_background": "light"
     },
     "output_type": "display_data"
    }
   ],
   "source": [
    "from sklearn.linear_model import Lasso\n",
    "\n",
    "plot_pca(Lasso(), X_train, np.log(Y_train))"
   ]
  }
 ],
 "metadata": {
  "interpreter": {
   "hash": "89a8dbf1c7ab353b6be4a3bb2e62a5f787febc420adf5378bc5c4c9cb5d108ef"
  },
  "kernelspec": {
   "display_name": "Python 3",
   "language": "python",
   "name": "python3"
  },
  "language_info": {
   "codemirror_mode": {
    "name": "ipython",
    "version": 3
   },
   "file_extension": ".py",
   "mimetype": "text/x-python",
   "name": "python",
   "nbconvert_exporter": "python",
   "pygments_lexer": "ipython3",
   "version": "3.8.8"
  }
 },
 "nbformat": 4,
 "nbformat_minor": 2
}
