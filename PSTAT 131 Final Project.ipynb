{
 "cells": [
  {
   "cell_type": "markdown",
   "metadata": {},
   "source": [
    "# r/Askreddit Number of Comments Model\n",
    "Sean Gao, Aya Zeplovitch\n",
    "\n",
    "## Introduction \n",
    "\n",
    "This project aims to predict the number of comments given the question of any [r/Askreddit](https://www.reddit.com/r/AskReddit/) question. r/Askreddit is a forum where redditors (Reddit users) post questions (about anything really). We try to find the answer to the following question: \"what kind of r/Askreddit questions garner the most interactions?\" This is an interesting question because as someone that regularly browses Reddit, there definitely exists a pattern between the posts that become popular.\n",
    "\n",
    "***\n",
    "\n",
    "## NLP\n",
    "\n",
    "As our data is going to be text data, we will have to use NLP techniques to transform text into machine readable dataframes. The most common techniques used are word-embedding, and bag-of-words. Here's approximately how they work:\n",
    "\n",
    "Suppose we have the following sentence: *\"I like my big pancakes\"*\n",
    "\n",
    "We can make our list of vocabulary from this sentence: **'I', 'like', 'my', big', 'pancakes'**. Both techniques uses the one-hot (or multi-hot in the case of bag-of-words) encoding (i.e., the word 'like' would be represented by a vector **[0, 1, 0, 0, 0]**). \n",
    "\n",
    "###  Word-Embedding\n",
    "\n",
    "In the case of word-embedding, a $m \\times n$ matrix will be created, where $m$ is the number of words in the sentence, and $n$ is the number of words in our total vocabulary. As such, our sentence will be represented as such:\n",
    "\n",
    "||I|like|my|big|pancakes|\n",
    "|---|---|---|---|---|---|\n",
    "|1|1|0|0|0|0|\n",
    "|2|0|1|0|0|0|\n",
    "|3|0|0|1|0|0|\n",
    "|4|0|0|0|1|0|\n",
    "|5|0|0|0|0|1|\n",
    "\n",
    "### Bag-of-Words\n",
    "\n",
    "In the case of bag-of-words, a single array of length $m$ will be created. The value at each index will be the number of occurrences of the word that index represents. With the same vocabulary, *'I like pancakes.'* would be represented as such:\n",
    "\n",
    "|I|like|my|big|pancakes|\n",
    "|---|---|---|---|---|\n",
    "|1|1|0|0|1|\n",
    "\n",
    "### Word-Embedding vs Bag-of-Words\n",
    "\n",
    "Word-embedding holds more information than bag-of-words. For one, one sentence is represented as an $m \\times n$ matrix with word-embedding, whereas it is represented as a $m$ size array with bag-of-words. Most importantly, word-embedding is able to represent the order of the words in the sentence. For example, take the phrases \"yeah no\" and \"no yeah.\" To a fluent English speaker, they have opposite meanings: \"yeah no\" means \"no,\" and \"no yeah\" means \"yes.\" However, they would have the same representation with the bag-of-words technique, whereas word-embedding would be able to properly represent the difference between these phrases. \n",
    "\n",
    "However, word-embedding is much more computationally expensive as each sentence would be $n$ times bigger. It also requires a different type of algorithm to model as each sentence would have a different $n$, making the number of predictors variable. As such, common machine learning methods like linear regression, ensemble tree methods, and many others would not work with the data. This is one reason we have decided to go with the bag-of-words approach. Another reason is that due to the nature of what we're trying to predict, the order of the words in the question may not matter as much as which words actually appear in the question. \n",
    "\n",
    "\n",
    "***\n",
    "\n",
    "## Importing Packages\n",
    "\n",
    "All the imports will be grouped at the top, make sure they are all installed and up to date if you're trying to run this notebook. This was bulit on Python 3.10~. "
   ]
  },
  {
   "cell_type": "code",
   "execution_count": 8,
   "metadata": {},
   "outputs": [],
   "source": [
    "import pandas as pd\n",
    "import numpy as np\n",
    "import matplotlib.pyplot as plt\n",
    "import nltk\n",
    "import pickle\n",
    "import os\n",
    "\n",
    "from sklearn.feature_extraction.text import CountVectorizer\n",
    "from sklearn.preprocessing import StandardScaler\n",
    "from sklearn.metrics import mean_squared_error\n",
    "from sklearn.model_selection import cross_val_score\n",
    "from sklearn.decomposition import PCA\n",
    "from sklearn.preprocessing import scale\n",
    "from sklearn.model_selection import RepeatedKFold\n",
    "from sklearn.linear_model import LassoCV\n",
    "from sklearn.model_selection import GridSearchCV\n",
    "from sklearn.linear_model import LinearRegression\n",
    "from sklearn.linear_model import Lasso\n",
    "from sklearn.linear_model import Ridge\n",
    "\n",
    "from scipy import stats\n",
    "from tqdm import tqdm"
   ]
  },
  {
   "cell_type": "markdown",
   "metadata": {},
   "source": [
    "*** \n",
    "\n",
    "## Notebook Parameters\n",
    "\n",
    "Some parameters here to help run the notebook faster. Our dataset is huge so it helps to only use portions of it for the sake of memory/computing power.\n",
    "\n",
    "We were actually unable to use the entire dataset (nearly 1 million rows) as we lacked the memory. The number of words in the vocabulary was very important as well both for predictability and computational power. The `N_VOCAB` value we chose was mainly as a result of limited computational power and memory.\n",
    "\n",
    "`PCT_DATA`: the percentage of the entire dataset used for the rest of the notebook.  \n",
    "`N_VOCAB`: the number of words in the vocabulary "
   ]
  },
  {
   "cell_type": "code",
   "execution_count": 9,
   "metadata": {},
   "outputs": [],
   "source": [
    "PCT_DATA = .1\n",
    "N_VOCAB = 500"
   ]
  },
  {
   "cell_type": "markdown",
   "metadata": {},
   "source": [
    "*** \n",
    "\n",
    "## Helper Functions\n",
    "\n",
    "Each function will have Docstrings included to describe its purpose and usage"
   ]
  },
  {
   "cell_type": "code",
   "execution_count": 10,
   "metadata": {},
   "outputs": [],
   "source": [
    "def rm_stop(words):\n",
    "    \"\"\"\n",
    "    Removes the stopwords from a list of words\n",
    "    \"\"\"\n",
    "\n",
    "    new_words = []\n",
    "    stop_words = nltk.corpus.stopwords.words('english')\n",
    "\n",
    "    for w in words:\n",
    "        if w not in stop_words:\n",
    "            new_words.append(w)\n",
    "    return new_words\n",
    "\n",
    "def build_data(pct_data=PCT_DATA):\n",
    "    \"\"\"\n",
    "    Uses data/finaldataset.csv to create a text dataset.\n",
    "    Result dataset will contain a string with stop words removed.\n",
    "    \"\"\"\n",
    "\n",
    "    raw_df = pd.read_csv('data/finaldataset.csv')\n",
    "    raw_df = raw_df.iloc[:round(raw_df.shape[0] * pct_data)]\n",
    "\n",
    "    # num_comments is self explanatory, title is the question (our predictor)\n",
    "    df = raw_df[['num_comments', 'title']]\n",
    "    del raw_df\n",
    "\n",
    "    # setting all strings to lowercase and tokenizing them\n",
    "    df.loc[:,'title'] = df['title'].str.lower()\n",
    "    tokenizer = nltk.RegexpTokenizer(r'\\b[(a-z)]+\\b')\n",
    "    df.loc[:,'tokenized'] = df['title'].apply(tokenizer.tokenize)\n",
    "\n",
    "    # removing stop words and rejoining the words for CountVectorizer later\n",
    "    df['tokenized'] = df['tokenized'].apply(rm_stop)\n",
    "    df['text'] = df['tokenized'].apply(lambda x: ' '.join([word for word in x]))\n",
    "\n",
    "    return df\n",
    "\n",
    "def fit_n_vocab(df, n_vocab=N_VOCAB):\n",
    "    \"\"\"\n",
    "    Fits the bag-of-words with N_VOCAB as the number of words in the vocabulary. \n",
    "\n",
    "    Returns:\n",
    "    --------\n",
    "        X : np.array()\n",
    "            Number of observations x N_VOCAB bag-of-words matrix\n",
    "        Y : np.array()\n",
    "            Array containing the number of comments\n",
    "        vocab : np.array()\n",
    "            Array of strings of the vocab\n",
    "        vectorizer: CountVectorizer()\n",
    "            CountVectorizer object used to transform new data\n",
    "    \"\"\"\n",
    "\n",
    "    vectorizer = CountVectorizer(max_features=n_vocab)\n",
    "    vecfit = vectorizer.fit_transform(df['text'])\n",
    "    X = vecfit.toarray()\n",
    "\n",
    "    vocab = vectorizer.get_feature_names()\n",
    "    Y = df['num_comments'].to_numpy()\n",
    "\n",
    "    return X, Y, vocab, vectorizer \n",
    "\n",
    "def pct_no_words(X):\n",
    "    \"\"\"Calculates the percent of observations with 0 words in the bag-of-words\"\"\"\n",
    "    return sum(np.sum(X, axis=1) > 0)/X.shape[0]\n",
    "\n",
    "def pred_from_str(q, m, vec):\n",
    "    \"\"\"Uses any model m to predict the number of comments of string q\"\"\"\n",
    "    tokenizer = nltk.RegexpTokenizer(r'\\b[(a-z)]+\\b')\n",
    "\n",
    "    q = tokenizer.tokenize(q)\n",
    "    q = rm_stop(q)\n",
    "\n",
    "    j = lambda x: ' '.join([word for word in x])\n",
    "    q = j(q)\n",
    "    pred_X = vec.transform(pd.Series(q)).toarray()\n",
    "\n",
    "    pred = m.predict(pred_X)\n",
    "\n",
    "    return pred"
   ]
  },
  {
   "cell_type": "markdown",
   "metadata": {},
   "source": [
    "***\n",
    "\n",
    "## Our Data\n",
    "\n",
    "Our data is gathered from the third party Reddit API [pushshift](https://pushshift.io/). The code for our data gathering can be found in our Github repo [here](https://github.com/seangao14/pstat131proj). Since the data collection and processing could take hours, we will include the link to the dataset [here](https://drive.google.com/drive/folders/1cTAwppo6BCP_D0SbrmyKpjrwZvwvVm2H?usp=sharing). The file we are using is *finaldataset.csv*.  \n",
    "The API did not yield the correct number of upvotes, which is why we're using the number of comments as our target variable. The number of comments or upvotes both show the popularity of the post, which is why we deemed the number of comments to be a sufficient replacement for the number of upvotes.\n",
    "\n",
    "\n",
    "If you're trying to run this notebook, be sure to have your *finaldataset.csv* in a folder named \"data\", such that the file path from this file would be ***data/finaldataset.csv***."
   ]
  },
  {
   "cell_type": "code",
   "execution_count": 11,
   "metadata": {},
   "outputs": [
    {
     "name": "stderr",
     "output_type": "stream",
     "text": [
      "C:\\Users\\Sean\\AppData\\Local\\Temp\\ipykernel_2928\\1935101033.py:20: DtypeWarning: Columns (7,8,61,62,66,67,70,71,72,73,74,75) have mixed types. Specify dtype option on import or set low_memory=False.\n",
      "  raw_df = pd.read_csv('data/finaldataset.csv')\n",
      "C:\\Users\\Sean\\AppData\\Local\\Programs\\Python\\Python310\\lib\\site-packages\\sklearn\\utils\\deprecation.py:87: FutureWarning: Function get_feature_names is deprecated; get_feature_names is deprecated in 1.0 and will be removed in 1.2. Please use get_feature_names_out instead.\n",
      "  warnings.warn(msg, category=FutureWarning)\n"
     ]
    }
   ],
   "source": [
    "df = build_data()\n",
    "X, Y, vocab, vectorizer = fit_n_vocab(df=df, n_vocab=N_VOCAB)\n",
    "del df"
   ]
  },
  {
   "cell_type": "markdown",
   "metadata": {},
   "source": [
    "***\n",
    "\n",
    "## EDA\n",
    "\n",
    "There are two main things we want to accomplish with EDA: the most practical `N_VOCAB` value and the best transformation for our target variable.  \n",
    "\n",
    "First we construct a graph plotting the number of vocabulary against the percentage of observations with at least 1 word in the bag-of-words (the horizontal sum of each observation is at least 1). This is important because having no word in the bag-of-words essentially means the data has no information regarding that observation. As such, we want to minimize the number of observations which the model learns nothing about. With our limited computational power, we are unable to have a large amount of vocabularies in our bag-of-words.  \n",
    "\n",
    "If you're running this from a cloned repo from our [Github](https://github.com/seangao14/pstat131proj), you won't need to change anything to run this next code block, as *pct_df.csv* is included in the repo. Otherwise, set `run` to **True** if it is your first time running this notebook, **False** otherwise."
   ]
  },
  {
   "cell_type": "code",
   "execution_count": 5,
   "metadata": {},
   "outputs": [
    {
     "data": {
      "image/png": "[encoded data removed]",
      "text/plain": [
       "<Figure size 432x288 with 1 Axes>"
      ]
     },
     "metadata": {
      "needs_background": "light"
     },
     "output_type": "display_data"
    }
   ],
   "source": [
    "# set run = True if first time running, False otherwise as it takes a while (upwards of an hour on some machines) to run\n",
    "run = False\n",
    "\n",
    "if run:\n",
    "    pct_vals = []\n",
    "    df = build_data()\n",
    "\n",
    "    for i in tqdm(np.arange(100, 5001, 50)):\n",
    "        X = fit_n_vocab(df=df, n_vocab=i)[0]\n",
    "        pct = pct_no_words(X)\n",
    "        pct_vals.append([i, pct])\n",
    "    pct_df = pd.DataFrame(pct_vals, columns=['n_vocab', 'pct_words'])\n",
    "    pct_df.to_csv('pct_df.csv')\n",
    "else:\n",
    "    pct_df = pd.read_csv('pct_df.csv')\n",
    "\n",
    "plt.plot(pct_df['n_vocab'], pct_df['pct_words'])\n",
    "plt.xlabel('Number of words in the bag of words')\n",
    "plt.ylabel('Percent of obs. with 0 words from the bag of words')\n",
    "\n",
    "plt.show()"
   ]
  },
  {
   "cell_type": "markdown",
   "metadata": {},
   "source": [
    "We can see that there is a diminishing return effect once `N_VOCAB` reaches about the 1000 mark, so we will use a value within that range. (We ended up using 500 due to the amount of compute required for higher values) We realize that this is not a perfect solution as about 2% of the observations will have no information about them. However, with our limited compute we believe this is the best compromise.  \n",
    "\n",
    "Next we will plot a histogram of our target variable, to see if any transformations should be made. We expect that the data will be positively skewed, as most of the posts on r/Askreddit garner little attention, and a few posts get most of the comments."
   ]
  },
  {
   "cell_type": "code",
   "execution_count": 5,
   "metadata": {},
   "outputs": [
    {
     "data": {
      "image/png": "[encoded data removed]",
      "text/plain": [
       "<Figure size 432x288 with 1 Axes>"
      ]
     },
     "metadata": {
      "needs_background": "light"
     },
     "output_type": "display_data"
    }
   ],
   "source": [
    "plt.hist(Y)\n",
    "plt.show()"
   ]
  },
  {
   "cell_type": "markdown",
   "metadata": {},
   "source": [
    "This plot basically meets our expectation of an extreme positive skewness. Let's bound the x-values and increase the number of bins."
   ]
  },
  {
   "cell_type": "code",
   "execution_count": 6,
   "metadata": {},
   "outputs": [
    {
     "data": {
      "image/png": "[encoded data removed]",
      "text/plain": [
       "<Figure size 432x288 with 2 Axes>"
      ]
     },
     "metadata": {
      "needs_background": "light"
     },
     "output_type": "display_data"
    }
   ],
   "source": [
    "fig, ax = plt.subplots(1, 2)\n",
    "ax[0].hist(Y, bins=100, range=(0, 1000))\n",
    "ax[1].hist(Y, bins=100, range=(0, 200))\n",
    "plt.show()"
   ]
  },
  {
   "cell_type": "markdown",
   "metadata": {},
   "source": [
    "The skewness exists even when we set the upper bound to 200. A good transformation for skewed data is a log transform, so we will do that."
   ]
  },
  {
   "cell_type": "code",
   "execution_count": 7,
   "metadata": {},
   "outputs": [],
   "source": [
    "# Y transformation\n",
    "log_Y = np.log(Y, dtype=float)"
   ]
  },
  {
   "cell_type": "code",
   "execution_count": 8,
   "metadata": {},
   "outputs": [
    {
     "data": {
      "image/png": "[encoded data removed]",
      "text/plain": [
       "<Figure size 432x288 with 1 Axes>"
      ]
     },
     "metadata": {
      "needs_background": "light"
     },
     "output_type": "display_data"
    }
   ],
   "source": [
    "plt.hist(log_Y, bins=50)\n",
    "plt.show()"
   ]
  },
  {
   "cell_type": "markdown",
   "metadata": {},
   "source": [
    "We can see that the data is now much more normally distributed, although there still exists a positive skew. For the most part, this transformed Y is normal enough for the assumption of normality in models like linear regression.\n",
    "\n",
    "***\n",
    "\n",
    "## Train, Validation, Test Split"
   ]
  },
  {
   "cell_type": "code",
   "execution_count": 12,
   "metadata": {},
   "outputs": [
    {
     "name": "stdout",
     "output_type": "stream",
     "text": [
      "No. of training examples: 79822\n",
      "No. of validation examples: 9978\n",
      "No. of testing examples: 9977\n"
     ]
    }
   ],
   "source": [
    "df = pd.DataFrame(data = X)\n",
    "df['Y'] = Y\n",
    "\n",
    "# splitting the data into train and the remaining data\n",
    "X_train = df.sample(frac = 0.8, random_state = 25)  # random_state serves as a seed\n",
    "X_remaining = df.drop(X_train.index)\n",
    "\n",
    "Y_train = X_train.pop('Y')\n",
    "\n",
    "#splitting the remaining data into validation and test\n",
    "X_val = X_remaining.sample(frac = 0.5, random_state = 25)\n",
    "X_test = X_remaining.drop(X_val.index)\n",
    "\n",
    "Y_val = X_val.pop('Y')\n",
    "Y_test = X_test.pop('Y')\n",
    "\n",
    "scaler = StandardScaler()\n",
    "scaler.fit(X_train)\n",
    "\n",
    "print(f\"No. of training examples: {X_train.shape[0]}\")\n",
    "print(f\"No. of validation examples: {X_val.shape[0]}\")\n",
    "print(f\"No. of testing examples: {X_test.shape[0]}\")\n",
    "\n",
    "del df, X_remaining"
   ]
  },
  {
   "cell_type": "markdown",
   "metadata": {},
   "source": [
    "***\n",
    "\n",
    "## Model Selection\n",
    "\n",
    "One main focus for us is dimensionality reduction, since we have a large number of words as predictors. We will use PCA to attempt to reduce the dimensionality without losing important information. \n",
    "\n",
    "We define `pca()` and `plot_pca()` to fit models with different numbers of principle components and plots the MSE."
   ]
  },
  {
   "cell_type": "code",
   "execution_count": 14,
   "metadata": {},
   "outputs": [],
   "source": [
    "# code from: https://www.statology.org/principal-components-regression-in-python/\n",
    "def pca(model, X_train, Y_train):\n",
    "    # Scale predictor variables to all have mean of 0 and standard deviation of 1. This ensures that no predictor variable is overly influencial in the model if it happens to be measured in different units\n",
    "    pca = PCA()\n",
    "    X_reduced = pca.fit_transform(scaler.transform(X_train))\n",
    "\n",
    "    # Define cross validation method. Here we are using k-fold cross-validation with 10 folds repreated 3 times\n",
    "    cv = RepeatedKFold(n_splits=10, n_repeats=3, random_state=1)\n",
    "\n",
    "    mse = []\n",
    "\n",
    "    # Calculate MSE with only the intercept\n",
    "    score = -1 * cross_val_score(model,\n",
    "               np.ones((len(X_reduced),1)), Y_train, cv=cv,\n",
    "               scoring='neg_mean_squared_error').mean()    \n",
    "    mse.append(score)\n",
    "\n",
    "    # Calculate MSE using cross-validation, adding one component at a time\n",
    "    for i in tqdm(np.arange(1, N_VOCAB+1, int(N_VOCAB/20))):\n",
    "        score = -1 * cross_val_score(model,\n",
    "               X_reduced[:,:i], Y_train, cv=cv, scoring='neg_mean_squared_error').mean()\n",
    "        mse.append(score)\n",
    "    return mse, pca\n",
    "\n",
    "def plot_pca(model, X_train, Y_train):\n",
    "    # Plot cross-validation results\n",
    "    mse = pca(model, X_train, Y_train)\n",
    "    plt.plot(mse)\n",
    "    plt.xlabel('Number of Principal Components')\n",
    "    plt.ylabel('MSE')\n",
    "    plt.title((str(model) + ' PCA'))\n",
    "    plt.show()"
   ]
  },
  {
   "cell_type": "markdown",
   "metadata": {},
   "source": [
    "### Linear Regression"
   ]
  },
  {
   "cell_type": "code",
   "execution_count": 14,
   "metadata": {},
   "outputs": [
    {
     "name": "stderr",
     "output_type": "stream",
     "text": [
      "100%|██████████| 20/20 [11:35<00:00, 34.79s/it]\n"
     ]
    },
    {
     "data": {
      "image/png": "[encoded data removed]",
      "text/plain": [
       "<Figure size 432x288 with 1 Axes>"
      ]
     },
     "metadata": {
      "needs_background": "light"
     },
     "output_type": "display_data"
    }
   ],
   "source": [
    "plot_pca(LinearRegression(), X_train, np.log(Y_train))"
   ]
  },
  {
   "cell_type": "markdown",
   "metadata": {},
   "source": [
    "From the plot above, we can see that for linear regression the test MSE decreases with each component being added, and never increases. Therefore, we are going to use a model that uses all of the principal components."
   ]
  },
  {
   "cell_type": "markdown",
   "metadata": {},
   "source": [
    "### Ridge Regression"
   ]
  },
  {
   "cell_type": "code",
   "execution_count": 16,
   "metadata": {},
   "outputs": [
    {
     "name": "stderr",
     "output_type": "stream",
     "text": [
      "100%|██████████| 20/20 [03:04<00:00,  9.21s/it]\n"
     ]
    },
    {
     "data": {
      "image/png": "[encoded data removed]",
      "text/plain": [
       "<Figure size 432x288 with 1 Axes>"
      ]
     },
     "metadata": {
      "needs_background": "light"
     },
     "output_type": "display_data"
    }
   ],
   "source": [
    "plot_pca(Ridge(), X_train, np.log(Y_train))"
   ]
  },
  {
   "cell_type": "markdown",
   "metadata": {},
   "source": [
    "From the plot above, we see that for ridge regression the MSE plot is extremely similar to that of linear regression, and here too the MSE only decreases, which means we will use all the principal components, or that every predictor will be used. As such, we will fit linear, ridge, and lasso regression. "
   ]
  },
  {
   "cell_type": "code",
   "execution_count": 18,
   "metadata": {},
   "outputs": [
    {
     "name": "stdout",
     "output_type": "stream",
     "text": [
      "Cross Val MSE: 0.6987416384711121\n",
      "Validation MSE: 0.7571649868879563\n"
     ]
    }
   ],
   "source": [
    "scoreLR = cross_val_score(LinearRegression(), X_train, np.log(Y_train), cv = 5, \n",
    "                           scoring = 'neg_mean_squared_error')\n",
    "print(f'Cross Val MSE: {-1*scoreLR.mean()}')\n",
    "\n",
    "lr = LinearRegression()\n",
    "lr.fit(X_train, np.log(Y_train))\n",
    "print(f'Validation MSE: {mean_squared_error(np.log(Y_val), lr.predict(X_val))}')"
   ]
  },
  {
   "cell_type": "code",
   "execution_count": 17,
   "metadata": {},
   "outputs": [
    {
     "name": "stdout",
     "output_type": "stream",
     "text": [
      "Cross Val MSE: 0.6986898776081856\n",
      "Validation MSE: 0.7571402947257673\n"
     ]
    }
   ],
   "source": [
    "scoreRidge = cross_val_score(Ridge(), X_train, np.log(Y_train), cv = 5, \n",
    "                           scoring = 'neg_mean_squared_error')\n",
    "print(f'Cross Val MSE: {-1*scoreRidge.mean()}')\n",
    "\n",
    "ridge = Ridge()\n",
    "ridge.fit(X_train, np.log(Y_train))\n",
    "print(f'Validation MSE: {mean_squared_error(np.log(Y_val), ridge.predict(X_val))}')"
   ]
  },
  {
   "cell_type": "markdown",
   "metadata": {},
   "source": [
    "### Lasso Regression\n",
    "\n",
    "For Lasso regression, we use a different approach and try to fit different $\\alpha$ values with a grid search cross validation."
   ]
  },
  {
   "cell_type": "code",
   "execution_count": 19,
   "metadata": {},
   "outputs": [
    {
     "name": "stdout",
     "output_type": "stream",
     "text": [
      "Fitting 30 folds for each of 99 candidates, totalling 2970 fits\n",
      "MSE: -0.748\n",
      "Config: {'alpha': 0.01}\n"
     ]
    }
   ],
   "source": [
    "# code from: https://machinelearningmastery.com/lasso-regression-with-python/\n",
    "\n",
    "# Define model\n",
    "model = Lasso()\n",
    "\n",
    "# Define model evaluation method\n",
    "cv = RepeatedKFold(n_splits=10, n_repeats=3, random_state=1)\n",
    "\n",
    "# Define grid\n",
    "grid = dict()\n",
    "grid['alpha'] = np.arange(0.01, 1, 0.01)\n",
    "\n",
    "# Define search\n",
    "search = GridSearchCV(model, grid, scoring='neg_mean_squared_error', cv=cv, n_jobs=1, verbose=1)\n",
    "\n",
    "# Perform the search\n",
    "results = search.fit(X_train, np.log(Y_train))\n",
    "\n",
    "# Summarize\n",
    "print('MSE: %.3f' % results.best_score_)\n",
    "print('Config: %s' % results.best_params_)"
   ]
  },
  {
   "cell_type": "code",
   "execution_count": 33,
   "metadata": {},
   "outputs": [
    {
     "name": "stdout",
     "output_type": "stream",
     "text": [
      "Lasso Validation MSE: 0.8161913589323858\n"
     ]
    }
   ],
   "source": [
    "print(f'Lasso Validation MSE: {mean_squared_error(results.predict(X_val), np.log(Y_val))}')"
   ]
  },
  {
   "cell_type": "markdown",
   "metadata": {},
   "source": [
    "### Selected Model\n",
    "\n",
    "We get the following results for our validation set MSE:\n",
    "\n",
    "|Model|Validation MSE|\n",
    "|---|---|\n",
    "|Lasso Regression|0.8161913|\n",
    "|Linear Regression|0.7571649|\n",
    "|Ridge Regression|0.7571402|\n",
    "\n",
    "We see that ridge regression was able to have the least validation MSE, although the difference was slight. Therefore we select the ridge regression to be our final model.\n",
    "\n",
    "We will now see how the ridge regression model performs on the test (hold-out) set."
   ]
  },
  {
   "cell_type": "code",
   "execution_count": 34,
   "metadata": {},
   "outputs": [
    {
     "name": "stdout",
     "output_type": "stream",
     "text": [
      "Ridge Test MSE: 0.8315668642581804\n"
     ]
    }
   ],
   "source": [
    "print(f'Ridge Test MSE: {mean_squared_error(ridge.predict(X_test), np.log(Y_test))}')"
   ]
  },
  {
   "cell_type": "markdown",
   "metadata": {},
   "source": [
    "*** \n",
    "\n",
    "## Interpretability\n",
    "\n",
    "One important feature of simple regression models like linear regression and ridge regression is that the models and their parameters are extremely easy to interpret. This is especially helpful for our models as we can see which words contribute more positively to the number of comments and which words contribute negatively.\n",
    "\n",
    "We (or [this github post](https://stackoverflow.com/questions/27928275/find-p-value-significance-in-scikit-learn-linearregression)) create a function that can extract the coefficients (similar to R)."
   ]
  },
  {
   "cell_type": "code",
   "execution_count": 13,
   "metadata": {},
   "outputs": [],
   "source": [
    "\n",
    "# code from: https://stackoverflow.com/questions/27928275/find-p-value-significance-in-scikit-learn-linearregression\n",
    "def make_lr_dict(m, y, p):\n",
    "    params = np.append(m.intercept_,m.coef_)\n",
    "    predictions = p\n",
    "\n",
    "    newX = pd.DataFrame({\"Constant\":np.ones(len(X))}).join(pd.DataFrame(X))\n",
    "    MSE = (sum((y-predictions)**2))/(len(newX)-len(newX.columns))\n",
    "\n",
    "    # Note if you don't want to use a DataFrame replace the two lines above with\n",
    "    # newX = np.append(np.ones((len(X),1)), X, axis=1)\n",
    "    # MSE = (sum((y-predictions)**2))/(len(newX)-len(newX[0]))\n",
    "\n",
    "    var_b = MSE*(np.linalg.inv(np.dot(newX.T,newX)).diagonal())\n",
    "    sd_b = np.sqrt(var_b)\n",
    "    ts_b = params/ sd_b\n",
    "\n",
    "    sd_b = np.round(sd_b,3)\n",
    "    ts_b = np.round(ts_b,3)\n",
    "    #p_values = np.round(p_values,3)\n",
    "    params = np.round(params,4)\n",
    "\n",
    "    myDF3 = pd.DataFrame()\n",
    "    myDF3[\"Coefficients\"],myDF3[\"Standard Errors\"],myDF3[\"t values\"] = [params,sd_b,ts_b]\n",
    "    return myDF3.drop([0])"
   ]
  },
  {
   "cell_type": "markdown",
   "metadata": {},
   "source": [
    "###  Linear Regression Coefficients"
   ]
  },
  {
   "cell_type": "code",
   "execution_count": 37,
   "metadata": {},
   "outputs": [
    {
     "data": {
      "text/html": [
       "<div>\n",
       "<style scoped>\n",
       "    .dataframe tbody tr th:only-of-type {\n",
       "        vertical-align: middle;\n",
       "    }\n",
       "\n",
       "    .dataframe tbody tr th {\n",
       "        vertical-align: top;\n",
       "    }\n",
       "\n",
       "    .dataframe thead th {\n",
       "        text-align: right;\n",
       "    }\n",
       "</style>\n",
       "<table border=\"1\" class=\"dataframe\">\n",
       "  <thead>\n",
       "    <tr style=\"text-align: right;\">\n",
       "      <th></th>\n",
       "      <th>Coefficients</th>\n",
       "      <th>Standard Errors</th>\n",
       "      <th>t values</th>\n",
       "      <th>word</th>\n",
       "    </tr>\n",
       "  </thead>\n",
       "  <tbody>\n",
       "    <tr>\n",
       "      <th>364</th>\n",
       "      <td>0.8024</td>\n",
       "      <td>0.064</td>\n",
       "      <td>12.617</td>\n",
       "      <td>rittenhouse</td>\n",
       "    </tr>\n",
       "    <tr>\n",
       "      <th>458</th>\n",
       "      <td>0.7946</td>\n",
       "      <td>0.047</td>\n",
       "      <td>16.771</td>\n",
       "      <td>username</td>\n",
       "    </tr>\n",
       "    <tr>\n",
       "      <th>232</th>\n",
       "      <td>0.4826</td>\n",
       "      <td>0.071</td>\n",
       "      <td>6.784</td>\n",
       "      <td>kyle</td>\n",
       "    </tr>\n",
       "    <tr>\n",
       "      <th>338</th>\n",
       "      <td>0.4689</td>\n",
       "      <td>0.051</td>\n",
       "      <td>9.190</td>\n",
       "      <td>president</td>\n",
       "    </tr>\n",
       "    <tr>\n",
       "      <th>383</th>\n",
       "      <td>0.4488</td>\n",
       "      <td>0.009</td>\n",
       "      <td>47.585</td>\n",
       "      <td>sex</td>\n",
       "    </tr>\n",
       "  </tbody>\n",
       "</table>\n",
       "</div>"
      ],
      "text/plain": [
       "     Coefficients  Standard Errors  t values         word\n",
       "364        0.8024            0.064    12.617  rittenhouse\n",
       "458        0.7946            0.047    16.771     username\n",
       "232        0.4826            0.071     6.784         kyle\n",
       "338        0.4689            0.051     9.190    president\n",
       "383        0.4488            0.009    47.585          sex"
      ]
     },
     "execution_count": 37,
     "metadata": {},
     "output_type": "execute_result"
    }
   ],
   "source": [
    "lr_pred = lr.predict(X_train)\n",
    "lr_df = make_lr_dict(lr, np.log(Y_train), lr_pred)\n",
    "lr_df['word'] = vocab\n",
    "lr_df_sorted = lr_df.sort_values(by=['Coefficients'], ascending=False)\n",
    "lr_df_sorted.head()"
   ]
  },
  {
   "cell_type": "markdown",
   "metadata": {},
   "source": [
    "#### Positive Contributions"
   ]
  },
  {
   "cell_type": "code",
   "execution_count": 62,
   "metadata": {},
   "outputs": [
    {
     "data": {
      "image/png": "[encoded data removed]",
      "text/plain": [
       "<Figure size 432x288 with 1 Axes>"
      ]
     },
     "metadata": {
      "needs_background": "light"
     },
     "output_type": "display_data"
    }
   ],
   "source": [
    "plt.barh([x for x in range(15)], lr_df_sorted['Coefficients'][0:15])\n",
    "plt.yticks([x for x in range(15)], lr_df_sorted['word'][0:15])\n",
    "plt.xlabel('Contributions')\n",
    "plt.title('Feature Contributions')\n",
    "plt.show()"
   ]
  },
  {
   "cell_type": "markdown",
   "metadata": {},
   "source": [
    "#### Negative Contributions"
   ]
  },
  {
   "cell_type": "code",
   "execution_count": 39,
   "metadata": {},
   "outputs": [
    {
     "data": {
      "image/png": "[encoded data removed]",
      "text/plain": [
       "<Figure size 432x288 with 1 Axes>"
      ]
     },
     "metadata": {
      "needs_background": "light"
     },
     "output_type": "display_data"
    }
   ],
   "source": [
    "plt.barh([x for x in range(15)], lr_df_sorted.tail(15)['Coefficients'])\n",
    "plt.yticks([x for x in range(15)], lr_df_sorted.tail(15)['word'])\n",
    "plt.xlabel('Contributions')\n",
    "plt.title('Feature Contributions')\n",
    "plt.show()"
   ]
  },
  {
   "cell_type": "markdown",
   "metadata": {},
   "source": [
    "### Ridge Regression Coefficients"
   ]
  },
  {
   "cell_type": "code",
   "execution_count": 40,
   "metadata": {},
   "outputs": [
    {
     "data": {
      "text/html": [
       "<div>\n",
       "<style scoped>\n",
       "    .dataframe tbody tr th:only-of-type {\n",
       "        vertical-align: middle;\n",
       "    }\n",
       "\n",
       "    .dataframe tbody tr th {\n",
       "        vertical-align: top;\n",
       "    }\n",
       "\n",
       "    .dataframe thead th {\n",
       "        text-align: right;\n",
       "    }\n",
       "</style>\n",
       "<table border=\"1\" class=\"dataframe\">\n",
       "  <thead>\n",
       "    <tr style=\"text-align: right;\">\n",
       "      <th></th>\n",
       "      <th>Coefficients</th>\n",
       "      <th>Standard Errors</th>\n",
       "      <th>t values</th>\n",
       "      <th>word</th>\n",
       "    </tr>\n",
       "  </thead>\n",
       "  <tbody>\n",
       "    <tr>\n",
       "      <th>364</th>\n",
       "      <td>0.7987</td>\n",
       "      <td>0.064</td>\n",
       "      <td>12.560</td>\n",
       "      <td>rittenhouse</td>\n",
       "    </tr>\n",
       "    <tr>\n",
       "      <th>458</th>\n",
       "      <td>0.7904</td>\n",
       "      <td>0.047</td>\n",
       "      <td>16.683</td>\n",
       "      <td>username</td>\n",
       "    </tr>\n",
       "    <tr>\n",
       "      <th>232</th>\n",
       "      <td>0.4832</td>\n",
       "      <td>0.071</td>\n",
       "      <td>6.793</td>\n",
       "      <td>kyle</td>\n",
       "    </tr>\n",
       "    <tr>\n",
       "      <th>338</th>\n",
       "      <td>0.4664</td>\n",
       "      <td>0.051</td>\n",
       "      <td>9.142</td>\n",
       "      <td>president</td>\n",
       "    </tr>\n",
       "    <tr>\n",
       "      <th>383</th>\n",
       "      <td>0.4483</td>\n",
       "      <td>0.009</td>\n",
       "      <td>47.533</td>\n",
       "      <td>sex</td>\n",
       "    </tr>\n",
       "  </tbody>\n",
       "</table>\n",
       "</div>"
      ],
      "text/plain": [
       "     Coefficients  Standard Errors  t values         word\n",
       "364        0.7987            0.064    12.560  rittenhouse\n",
       "458        0.7904            0.047    16.683     username\n",
       "232        0.4832            0.071     6.793         kyle\n",
       "338        0.4664            0.051     9.142    president\n",
       "383        0.4483            0.009    47.533          sex"
      ]
     },
     "execution_count": 40,
     "metadata": {},
     "output_type": "execute_result"
    }
   ],
   "source": [
    "ridge_pred = ridge.predict(X_train)\n",
    "ridge_df = make_lr_dict(ridge, np.log(Y_train), ridge_pred)\n",
    "ridge_df['word'] = vocab\n",
    "ridge_df_sorted = ridge_df.sort_values(by=['Coefficients'], ascending=False)\n",
    "ridge_df_sorted.head()"
   ]
  },
  {
   "cell_type": "markdown",
   "metadata": {},
   "source": [
    "#### Positive Contributions"
   ]
  },
  {
   "cell_type": "code",
   "execution_count": 64,
   "metadata": {},
   "outputs": [
    {
     "data": {
      "image/png": "[encoded data removed]",
      "text/plain": [
       "<Figure size 432x288 with 1 Axes>"
      ]
     },
     "metadata": {
      "needs_background": "light"
     },
     "output_type": "display_data"
    }
   ],
   "source": [
    "plt.barh([x for x in range(15)], ridge_df_sorted['Coefficients'][0:15])\n",
    "plt.yticks([x for x in range(15)], ridge_df_sorted['word'][0:15])\n",
    "plt.xlabel('Contributions')\n",
    "plt.title('Feature Contributions')\n",
    "plt.show()"
   ]
  },
  {
   "cell_type": "markdown",
   "metadata": {},
   "source": [
    "#### Negative Contributions"
   ]
  },
  {
   "cell_type": "code",
   "execution_count": 41,
   "metadata": {},
   "outputs": [
    {
     "data": {
      "image/png": "[encoded data removed]",
      "text/plain": [
       "<Figure size 432x288 with 1 Axes>"
      ]
     },
     "metadata": {
      "needs_background": "light"
     },
     "output_type": "display_data"
    }
   ],
   "source": [
    "plt.barh([x for x in range(15)], ridge_df_sorted.tail(15)['Coefficients'])\n",
    "plt.yticks([x for x in range(15)], ridge_df_sorted.tail(15)['word'])\n",
    "plt.xlabel('Contributions')\n",
    "plt.title('Feature Contributions')\n",
    "plt.show()"
   ]
  },
  {
   "cell_type": "markdown",
   "metadata": {},
   "source": [
    "This would have been the most interesting part of the project if you're a regular Reddit user or if you frequent r/Askreddit! There are a few things of note here:  \n",
    "\n",
    "Since the model was trained on data between December 2021 and March 2022 (time of the Kyle Rittenhouse controversey), we can see that any mentions of \"Kyle Rittenhouse\" would have made your r/Askreddit post more popular than average. We can also see that any post mentioning anything of a sexual nature (big surprise, from the keywords \"sex\", \"fuck\", \"sexual\", \"porn\") would also have made your post most popular than average. We can also see the skew towards an American demographic through the words \"president\", \"americans\", and \"america.\" \n",
    "\n",
    "When comparing the linear regression model to the ridge model, we see that their predictions for the contirbutions of the different words are almost identical. The only difference we see when looking at the top 15 words, is that linear regression predicts that \"porn\" is more important than \"men\" and ridge predicts the opposite. \n",
    "\n",
    "In addition, all the coefficients for the ridge regression are slightly smaller than those of the linear regression. This is expected because ridge regression penalizes for larger coefficients.  \n",
    "\n",
    "***\n",
    "\n",
    "## Number of Comments Predictions\n",
    "We chose to predict the number of comments for different questions from the subreddit r/AskReddit using the ridge regression model. As all three models were extremely similar, the difference in prediction is minor between the different models."
   ]
  },
  {
   "cell_type": "code",
   "execution_count": 42,
   "metadata": {},
   "outputs": [
    {
     "data": {
      "text/plain": [
       "array([9.17218663])"
      ]
     },
     "execution_count": 42,
     "metadata": {},
     "output_type": "execute_result"
    }
   ],
   "source": [
    "np.exp(pred_from_str(\"What is the weirdest thing you’ve done while horny?\", ridge, vectorizer))"
   ]
  },
  {
   "cell_type": "markdown",
   "metadata": {},
   "source": [
    "This post received 16 comments, and our model predicted about 9."
   ]
  },
  {
   "cell_type": "code",
   "execution_count": 89,
   "metadata": {},
   "outputs": [
    {
     "data": {
      "text/plain": [
       "array([12.72759948])"
      ]
     },
     "execution_count": 89,
     "metadata": {},
     "output_type": "execute_result"
    }
   ],
   "source": [
    "np.exp(pred_from_str(\"Dear Americans of Reddit, how do you find this first year of Biden's presidency compared to Trump's?\", ridge, vectorizer))"
   ]
  },
  {
   "cell_type": "markdown",
   "metadata": {},
   "source": [
    "This questions received 24.5k comments, while our predictor only predicts for it to have about 13 comments."
   ]
  },
  {
   "cell_type": "markdown",
   "metadata": {},
   "source": [
    "\n",
    "When it comes to outliers, we can see that our model does not do a good job predicting the number of comments on a Reddit post in the subreddit r/AskReddit. This is probably due to the extremely skewed data and the ample random factors that exist which determine whether a post becomes popular or not. A way to improve our model could be to add predictors that depend on the time of the day and the day of the week the question was posted, and seeing if it improves the prediction. "
   ]
  }
 ],
 "metadata": {
  "interpreter": {
   "hash": "89a8dbf1c7ab353b6be4a3bb2e62a5f787febc420adf5378bc5c4c9cb5d108ef"
  },
  "kernelspec": {
   "display_name": "Python 3",
   "language": "python",
   "name": "python3"
  },
  "language_info": {
   "codemirror_mode": {
    "name": "ipython",
    "version": 3
   },
   "file_extension": ".py",
   "mimetype": "text/x-python",
   "name": "python",
   "nbconvert_exporter": "python",
   "pygments_lexer": "ipython3",
   "version": "3.10.2"
  }
 },
 "nbformat": 4,
 "nbformat_minor": 2
}
