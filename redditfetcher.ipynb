{
 "cells": [
  {
   "cell_type": "code",
   "execution_count": 1,
   "metadata": {},
   "outputs": [],
   "source": [
    "import requests\n",
    "import pandas as pd\n",
    "import json\n",
    "import time\n",
    "from tqdm import tqdm"
   ]
  },
  {
   "cell_type": "code",
   "execution_count": 2,
   "metadata": {},
   "outputs": [],
   "source": [
    "sub = 'askreddit'\n",
    "after = 1516612471\n",
    "\n",
    "def gen_request(sub, after, before):\n",
    "    return f'https://api.pushshift.io/reddit/search/submission/?subreddit={sub}&sort=desc&sort_type=created_utc&after={after}&before={before}&num_comments=>2&size=1000'"
   ]
  },
  {
   "cell_type": "code",
   "execution_count": 3,
   "metadata": {},
   "outputs": [],
   "source": [
    "# total size = N_LOOP * 99\n",
    "N_LOOPS = 10000\n",
    "\n",
    "before_stamp = round(time.time())-1\n"
   ]
  },
  {
   "cell_type": "code",
   "execution_count": 4,
   "metadata": {},
   "outputs": [
    {
     "name": "stderr",
     "output_type": "stream",
     "text": [
      " 29%|██▉       | 2890/10000 [2:22:44<5:16:12,  2.67s/it] "
     ]
    }
   ],
   "source": [
    "for i in tqdm(range(N_LOOPS)):\n",
    "    try:\n",
    "        url = gen_request(sub, after, before_stamp)\n",
    "        raw = requests.get(url).json()['data']\n",
    "\n",
    "        before_stamp = raw[-1]['created_utc'] - 1\n",
    "\n",
    "        writ_df = pd.DataFrame(raw)\n",
    "\n",
    "        writ_df.to_csv(f'csvdata/batch{i}.csv')            \n",
    "    except:\n",
    "        print(f'yo{i}')\n",
    "        continue"
   ]
  }
 ],
 "metadata": {
  "interpreter": {
   "hash": "2db524e06e9f5f4ffedc911c917cb75e12dbc923643829bf417064a77eb14d37"
  },
  "kernelspec": {
   "display_name": "Python 3.8.2 64-bit",
   "language": "python",
   "name": "python3"
  },
  "language_info": {
   "codemirror_mode": {
    "name": "ipython",
    "version": 3
   },
   "file_extension": ".py",
   "mimetype": "text/x-python",
   "name": "python",
   "nbconvert_exporter": "python",
   "pygments_lexer": "ipython3",
   "version": "3.10.2"
  },
  "orig_nbformat": 4
 },
 "nbformat": 4,
 "nbformat_minor": 2
}
